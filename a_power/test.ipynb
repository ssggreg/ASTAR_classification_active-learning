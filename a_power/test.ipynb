{
 "cells": [
  {
   "cell_type": "code",
   "execution_count": 1,
   "metadata": {},
   "outputs": [],
   "source": [
    "import numpy as np\n",
    "import torch\n",
    "import torch.nn as nn\n",
    "import torch.optim as optim\n",
    "import matplotlib.pyplot as plt\n",
    "import seaborn as sns\n",
    "import pandas as pd\n",
    "from Class_vogn import train_model_cc_fast,csvDataset,ToTensor\n",
    "import torch.nn.functional as F\n",
    "from active_function import *\n",
    "from sklearn.model_selection import train_test_split\n",
    "from vogn import VOGN\n"
   ]
  },
  {
   "cell_type": "code",
   "execution_count": 9,
   "metadata": {},
   "outputs": [],
   "source": [
    "Xtrain = np.load('eightPhasePowerStage_dc_dc_v2_lbl/trainx.npy')\n",
    "Ytrain = np.load('eightPhasePowerStage_dc_dc_v2_lbl/trainy.npy')*1.\n",
    "Xtest = np.load('eightPhasePowerStage_dc_dc_v2_lbl/testx.npy')\n",
    "Ytest = np.load('eightPhasePowerStage_dc_dc_v2_lbl/testy.npy')*1.\n",
    "\n",
    "\n",
    "for i in range(8):\n",
    "    Xtrain[:,i]=(Xtrain[:,i] - Xtrain[:,i].mean())/(Xtrain[:,i].std()+1e-10)\n",
    "    Xtest[:,i]=(Xtest[:,i] - Xtest[:,i].mean())/(Xtest[:,i].std()+1e-10)\n",
    "Ytrain = Ytrain.reshape(-1,1)\n",
    "Ytest = Ytest.reshape(-1,1) \n"
   ]
  },
  {
   "cell_type": "code",
   "execution_count": 16,
   "metadata": {},
   "outputs": [
    {
     "data": {
      "text/plain": [
       "(254, 6)"
      ]
     },
     "execution_count": 16,
     "metadata": {},
     "output_type": "execute_result"
    }
   ],
   "source": [
    "Xtrain = np.load('eightPhasePowerStage_dc_dc_v2_lbl/trainx.npy')\n",
    "Ytrain = np.load('eightPhasePowerStage_dc_dc_v2_lbl/trainy.npy')*1.\n",
    "Xtest = np.load('eightPhasePowerStage_dc_dc_v2_lbl/testx.npy')\n",
    "Ytest = np.load('eightPhasePowerStage_dc_dc_v2_lbl/testy.npy')*1.\n",
    "Xtrain = Xtrain[:,1:7]\n",
    "Xtrain.shape"
   ]
  },
  {
   "cell_type": "code",
   "execution_count": 17,
   "metadata": {},
   "outputs": [
    {
     "data": {
      "text/plain": [
       "array([1.4044302e+07, 1.7145092e+01, 4.2890785e+01, 3.3316960e+00,\n",
       "       8.5871410e+00, 3.4468657e-01], dtype=float32)"
      ]
     },
     "execution_count": 17,
     "metadata": {},
     "output_type": "execute_result"
    }
   ],
   "source": [
    "np.std(Xtrain,axis=0)"
   ]
  },
  {
   "cell_type": "code",
   "execution_count": 12,
   "metadata": {},
   "outputs": [],
   "source": [
    "Xtrain = Xtrain[1:6]\n",
    "Xtrain.shape"
   ]
  },
  {
   "cell_type": "code",
   "execution_count": 4,
   "metadata": {},
   "outputs": [
    {
     "data": {
      "text/plain": [
       "array([[ 0.        , -0.00280313, -0.9814336 , ..., -0.33606377,\n",
       "        -1.1621884 ,  0.        ],\n",
       "       [ 0.        , -1.4268677 ,  1.1766182 , ...,  1.1778282 ,\n",
       "         0.28840554,  0.        ],\n",
       "       [ 0.        , -1.4268677 ,  0.82666385, ...,  0.82846856,\n",
       "         1.0137025 ,  0.        ],\n",
       "       ...,\n",
       "       [ 0.        ,  1.4212614 ,  1.001641  , ...,  1.061375  ,\n",
       "        -0.43689147,  0.        ],\n",
       "       [ 0.        , -0.00280313,  0.12675516, ..., -0.33606377,\n",
       "        -0.43689147,  0.        ],\n",
       "       [ 0.        ,  1.4212614 ,  0.30173233, ...,  0.24620238,\n",
       "        -0.43689147,  0.        ]], dtype=float32)"
      ]
     },
     "execution_count": 4,
     "metadata": {},
     "output_type": "execute_result"
    }
   ],
   "source": [
    "Xtrain"
   ]
  },
  {
   "cell_type": "code",
   "execution_count": 5,
   "metadata": {},
   "outputs": [],
   "source": [
    "class EvalNet(nn.Module):\n",
    "    def __init__(self, in_size=8, dropout_rate=None):\n",
    "        super(type(self), self).__init__()\n",
    "        self.dropout = dropout_rate\n",
    "        if dropout_rate:\n",
    "            self.dropout = nn.Dropout(dropout_rate)\n",
    "        self.f1 = nn.Linear(in_size, 64)\n",
    "        self.f2 = nn.Linear(64,  128)\n",
    "        self.f3 = nn.Linear(128,  128)\n",
    "        self.f4 = nn.Linear(128,  1)\n",
    "\n",
    "    def forward(self, x):\n",
    "        out = x\n",
    "        out = F.relu(self.f1(out))\n",
    "        if self.dropout:\n",
    "            out = self.dropout(out)\n",
    "        out = F.relu(self.f2(out))\n",
    "        if self.dropout:\n",
    "            out = self.dropout(out)\n",
    "        out =F.relu(self.f3(out))\n",
    "        out =self.f4(out)\n",
    "        return out\n",
    "    \n",
    "class BaseNet(nn.Module):\n",
    "    def __init__(self,dropout_rate=None):\n",
    "        super(type(self), self).__init__()\n",
    "        self.dropout = dropout_rate\n",
    "        if dropout_rate:\n",
    "            self.dropout = nn.Dropout(dropout_rate)\n",
    "        self.layer1 = nn.Linear(8, 32)\n",
    "        self.layer2 = nn.Linear(32, 32)\n",
    "        self.layer3 = nn.Linear(32, 1)\n",
    "        \n",
    "        \n",
    "    def forward(self, x):\n",
    "        x = F.relu(self.layer1(x))\n",
    "        if self.dropout:\n",
    "            out = self.dropout(out)\n",
    "        x = F.relu(self.layer2(x))\n",
    "        if self.dropout:\n",
    "            out = self.dropout(out)\n",
    "        out = self.layer3(x)\n",
    "        return out    "
   ]
  },
  {
   "cell_type": "code",
   "execution_count": 12,
   "metadata": {},
   "outputs": [
    {
     "name": "stdout",
     "output_type": "stream",
     "text": [
      "49\n",
      "49\n",
      "49\n",
      "49\n",
      "49\n",
      "49\n",
      "49\n",
      "49\n",
      "49\n",
      "49\n"
     ]
    }
   ],
   "source": [
    "correct = np.zeros(100)\n",
    "for x in range(10):\n",
    "    a = np.random.choice(254,10+10*x,replace=False)\n",
    "    Xtrainb=Xtrain[a]\n",
    "    Ytrainb=Ytrain[a]\n",
    "    model = BaseNet()\n",
    "    optimizer = VOGN(model, train_set_size=1000,prior_prec=30, prec_init=30, num_samples=4)\n",
    "\n",
    "    use_cuda = torch.cuda.is_available()\n",
    "    inference_dataset = csvDataset(Xtest,Ytest,transform= ToTensor())\n",
    "    inference_loader = torch.utils.data.DataLoader(inference_dataset,batch_size=Xtest.shape[0], shuffle=False)\n",
    "    \n",
    "    file_dataset = csvDataset(Xtrainb,Ytrainb,transform= ToTensor())\n",
    "    final_loader = torch.utils.data.DataLoader(file_dataset,batch_size=1 ,shuffle=False)\n",
    "\n",
    "    if use_cuda:\n",
    "        model = model.float().cuda()\n",
    "\n",
    "    criterion = F.binary_cross_entropy_with_logits\n",
    "    model, train_accuracy,ep= train_model_cc_fast(model, final_loader, criterion, optimizer,Xtrain.shape[0], num_epochs=50)\n",
    "    print(ep)\n",
    "    model.eval()\n",
    "    with torch.no_grad():\n",
    "        for i in inference_loader:\n",
    "            inputs = i['data']\n",
    "            labels = i['label']\n",
    "            inputs, labels = inputs.cuda(), labels.cuda()\n",
    "            out = model.forward(inputs)\n",
    "            pred = (out.cpu().numpy()>0)*1.\n",
    "            labels = (labels.cpu().numpy())*1.\n",
    "\n",
    "    correct[x] =(np.sum(pred==labels)/Xtest.shape[0])"
   ]
  },
  {
   "cell_type": "code",
   "execution_count": 13,
   "metadata": {},
   "outputs": [
    {
     "data": {
      "text/plain": [
       "[<matplotlib.lines.Line2D at 0x7f6bb8ffa5f8>]"
      ]
     },
     "execution_count": 13,
     "metadata": {},
     "output_type": "execute_result"
    },
    {
     "data": {
      "image/png": "[encoded data removed]",
      "text/plain": [
       "<Figure size 432x288 with 1 Axes>"
      ]
     },
     "metadata": {
      "needs_background": "light"
     },
     "output_type": "display_data"
    }
   ],
   "source": [
    "plt.plot(np.arange(10)/10,correct[:10])"
   ]
  },
  {
   "cell_type": "code",
   "execution_count": 14,
   "metadata": {},
   "outputs": [
    {
     "name": "stdout",
     "output_type": "stream",
     "text": [
      "49\n",
      "49\n",
      "49\n",
      "49\n",
      "49\n",
      "49\n",
      "49\n",
      "49\n",
      "49\n",
      "49\n"
     ]
    }
   ],
   "source": [
    "correct = np.zeros(100)\n",
    "for x in range(10):\n",
    "    a = np.random.choice(254,10+10*x,replace=False)\n",
    "    Xtrainb=Xtrain[a]\n",
    "    Ytrainb=Ytrain[a]\n",
    "    model = BaseNet()\n",
    "    optimizer = VOGN(model, train_set_size=100,prior_prec=30, prec_init=30, num_samples=4)\n",
    "\n",
    "    use_cuda = torch.cuda.is_available()\n",
    "    inference_dataset = csvDataset(Xtest,Ytest,transform= ToTensor())\n",
    "    inference_loader = torch.utils.data.DataLoader(inference_dataset,batch_size=Xtest.shape[0], shuffle=False)\n",
    "    \n",
    "    file_dataset = csvDataset(Xtrainb,Ytrainb,transform= ToTensor())\n",
    "    final_loader = torch.utils.data.DataLoader(file_dataset,batch_size=1 ,shuffle=False)\n",
    "\n",
    "    if use_cuda:\n",
    "        model = model.float().cuda()\n",
    "\n",
    "    criterion = F.binary_cross_entropy_with_logits\n",
    "    model, train_accuracy,ep= train_model_cc_fast(model, final_loader, criterion, optimizer,Xtrain.shape[0], num_epochs=50)\n",
    "    print(ep)\n",
    "    model.eval()\n",
    "    with torch.no_grad():\n",
    "        for i in inference_loader:\n",
    "            inputs = i['data']\n",
    "            labels = i['label']\n",
    "            inputs, labels = inputs.cuda(), labels.cuda()\n",
    "            out = model.forward(inputs)\n",
    "            pred = (out.cpu().numpy()>0)*1.\n",
    "            labels = (labels.cpu().numpy())*1.\n",
    "\n",
    "    correct[x] =(np.sum(pred==labels)/Xtest.shape[0])"
   ]
  },
  {
   "cell_type": "code",
   "execution_count": 15,
   "metadata": {},
   "outputs": [
    {
     "data": {
      "text/plain": [
       "[<matplotlib.lines.Line2D at 0x7f6bb8e53940>]"
      ]
     },
     "execution_count": 15,
     "metadata": {},
     "output_type": "execute_result"
    },
    {
     "data": {
      "image/png": "[encoded data removed]",
      "text/plain": [
       "<Figure size 432x288 with 1 Axes>"
      ]
     },
     "metadata": {
      "needs_background": "light"
     },
     "output_type": "display_data"
    }
   ],
   "source": [
    "plt.plot(np.arange(10)/10,correct[:10])"
   ]
  },
  {
   "cell_type": "code",
   "execution_count": 18,
   "metadata": {},
   "outputs": [
    {
     "name": "stdout",
     "output_type": "stream",
     "text": [
      "49\n",
      "49\n",
      "49\n",
      "49\n",
      "49\n",
      "49\n",
      "49\n",
      "49\n",
      "49\n",
      "49\n"
     ]
    }
   ],
   "source": [
    "correct = np.zeros(100)\n",
    "for x in range(10):\n",
    "    a = np.random.choice(254,20,replace=False)\n",
    "    Xtrainb=Xtrain[a]\n",
    "    Ytrainb=Ytrain[a]\n",
    "    model = BaseNet()\n",
    "    optimizer = VOGN(model, train_set_size=100+x*200,prior_prec=30, prec_init=30, num_samples=4)\n",
    "\n",
    "    use_cuda = torch.cuda.is_available()\n",
    "    inference_dataset = csvDataset(Xtest,Ytest,transform= ToTensor())\n",
    "    inference_loader = torch.utils.data.DataLoader(inference_dataset,batch_size=Xtest.shape[0], shuffle=False)\n",
    "    \n",
    "    file_dataset = csvDataset(Xtrainb,Ytrainb,transform= ToTensor())\n",
    "    final_loader = torch.utils.data.DataLoader(file_dataset,batch_size=1 ,shuffle=False)\n",
    "\n",
    "    if use_cuda:\n",
    "        model = model.float().cuda()\n",
    "\n",
    "    criterion = F.binary_cross_entropy_with_logits\n",
    "    model, train_accuracy,ep= train_model_cc_fast(model, final_loader, criterion, optimizer,Xtrain.shape[0], num_epochs=50)\n",
    "    print(ep)\n",
    "    model.eval()\n",
    "    with torch.no_grad():\n",
    "        for i in inference_loader:\n",
    "            inputs = i['data']\n",
    "            labels = i['label']\n",
    "            inputs, labels = inputs.cuda(), labels.cuda()\n",
    "            out = model.forward(inputs)\n",
    "            pred = (out.cpu().numpy()>0)*1.\n",
    "            labels = (labels.cpu().numpy())*1.\n",
    "\n",
    "    correct[x] =(np.sum(pred==labels)/Xtest.shape[0])"
   ]
  },
  {
   "cell_type": "code",
   "execution_count": 19,
   "metadata": {},
   "outputs": [
    {
     "data": {
      "text/plain": [
       "[<matplotlib.lines.Line2D at 0x7f6bb02a77b8>]"
      ]
     },
     "execution_count": 19,
     "metadata": {},
     "output_type": "execute_result"
    },
    {
     "data": {
      "image/png": "[encoded data removed]",
      "text/plain": [
       "<Figure size 432x288 with 1 Axes>"
      ]
     },
     "metadata": {
      "needs_background": "light"
     },
     "output_type": "display_data"
    }
   ],
   "source": [
    "plt.plot(np.arange(10)/10,correct[:10])"
   ]
  },
  {
   "cell_type": "markdown",
   "metadata": {},
   "source": [
    "import numpy as np\n",
    "import torch\n",
    "import torch.nn as nn\n",
    "import torch.optim as optim\n",
    "import matplotlib.pyplot as plt\n",
    "import seaborn as sns\n",
    "import pandas as pd\n",
    "from vogn_utils import train_model_cc_fast,csvDataset,ToTensor\n",
    "import torch.nn.functional as F\n",
    "\n",
    "\n",
    "class EvalNet(nn.Module):\n",
    "    def __init__(self, in_size=8, dropout_rate=None):\n",
    "        super(type(self), self).__init__()\n",
    "        self.dropout = dropout_rate\n",
    "        if dropout_rate:\n",
    "            self.dropout = nn.Dropout(dropout_rate)\n",
    "        self.f1 = nn.Linear(in_size, 64)\n",
    "        self.f2 = nn.Linear(64,  128)\n",
    "        self.f3 = nn.Linear(128,  128)\n",
    "        self.f4 = nn.Linear(128,  1)\n",
    "\n",
    "    def forward(self, x):\n",
    "        out = x\n",
    "        out = F.relu(self.f1(out))\n",
    "        if self.dropout:\n",
    "            out = self.dropout(out)\n",
    "        out = F.relu(self.f2(out))\n",
    "        if self.dropout:\n",
    "            out = self.dropout(out)\n",
    "        out =self.f3(out)\n",
    "        out =self.f4(out)\n",
    "        return out  \n",
    "    \n",
    "correct = np.zeros(100)\n",
    "for x in range(100):\n",
    "    \n",
    "    model = EvalNet()\n",
    "    optimizer = optim.Adam(model.parameters(), weight_decay=0.0001*x)\n",
    "\n",
    "    use_cuda = torch.cuda.is_available()\n",
    "    inference_dataset = csvDataset(Xtest,Ytest,transform= ToTensor())\n",
    "    inference_loader = torch.utils.data.DataLoader(inference_dataset,batch_size=Xtest.shape[0], shuffle=False)\n",
    "    file_dataset = csvDataset(Xtrain,Ytrain,transform= ToTensor())\n",
    "    final_loader = torch.utils.data.DataLoader(file_dataset,batch_size=Xtrain.shape[0], shuffle=False)\n",
    "\n",
    "    if use_cuda:\n",
    "        model = model.float().cuda()\n",
    "\n",
    "    criterion = F.binary_cross_entropy_with_logits\n",
    "    model, train_loss, train_accuracy = train_model_cc_fast(model, [final_loader, final_loader], criterion,\n",
    "    optimizer, num_epochs=50)\n",
    "    model.eval()\n",
    "    with torch.no_grad():\n",
    "        for i in inference_loader:\n",
    "            inputs = i['data']\n",
    "            labels = i['label']\n",
    "            if use_cuda:\n",
    "                inputs, labels = inputs.cuda(), labels.cuda()\n",
    "            out = model.forward(inputs)\n",
    "            pred = (out.cpu().numpy()>0)*1.\n",
    "            labels = (labels.cpu().numpy())*1.\n",
    "\n",
    "    correct[x] =(np.sum(pred==labels)/Xtest.shape[0])\n",
    "    \n",
    "    plt.plot(np.arange(100)/10000,correct)"
   ]
  },
  {
   "cell_type": "code",
   "execution_count": null,
   "metadata": {},
   "outputs": [],
   "source": []
  },
  {
   "cell_type": "code",
   "execution_count": 38,
   "metadata": {},
   "outputs": [
    {
     "data": {
      "text/plain": [
       "[<matplotlib.lines.Line2D at 0x7fae6c852f98>]"
      ]
     },
     "execution_count": 38,
     "metadata": {},
     "output_type": "execute_result"
    },
    {
     "data": {
      "image/png": "[encoded data removed]",
      "text/plain": [
       "<Figure size 432x288 with 1 Axes>"
      ]
     },
     "metadata": {},
     "output_type": "display_data"
    }
   ],
   "source": [
    "plt.plot(np.arange(100)/10000,correct)"
   ]
  },
  {
   "cell_type": "code",
   "execution_count": 8,
   "metadata": {},
   "outputs": [
    {
     "data": {
      "text/plain": [
       "0.953125"
      ]
     },
     "execution_count": 8,
     "metadata": {},
     "output_type": "execute_result"
    }
   ],
   "source": [
    "correct[0]"
   ]
  },
  {
   "cell_type": "code",
   "execution_count": null,
   "metadata": {},
   "outputs": [],
   "source": []
  }
 ],
 "metadata": {
  "kernelspec": {
   "display_name": "Python 3",
   "language": "python",
   "name": "python3"
  },
  "language_info": {
   "codemirror_mode": {
    "name": "ipython",
    "version": 3
   },
   "file_extension": ".py",
   "mimetype": "text/x-python",
   "name": "python",
   "nbconvert_exporter": "python",
   "pygments_lexer": "ipython3",
   "version": "3.6.6"
  }
 },
 "nbformat": 4,
 "nbformat_minor": 2
}
