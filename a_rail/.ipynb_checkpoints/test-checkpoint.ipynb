{
 "cells": [
  {
   "cell_type": "code",
   "execution_count": 1,
   "metadata": {},
   "outputs": [],
   "source": [
    "import numpy as np\n",
    "\n",
    "import numpy as np\n",
    "import torch\n",
    "import torch.nn as nn\n",
    "import torch.optim as optim\n",
    "import matplotlib.pyplot as plt\n",
    "import seaborn as sns\n",
    "import pandas as pd\n",
    "from vogn_utils import train_model_cc_fast,csvDataset,ToTensor\n",
    "import torch.nn.functional as F\n"
   ]
  },
  {
   "cell_type": "markdown",
   "metadata": {},
   "source": [
    "import numpy as np\n",
    "import torch\n",
    "import torch.nn as nn\n",
    "import torch.optim as optim\n",
    "import matplotlib.pyplot as plt\n",
    "import seaborn as sns\n",
    "import pandas as pd\n",
    "from vogn_utils import train_model_cc_fast,csvDataset,ToTensor\n",
    "import torch.nn.functional as F\n",
    "\n",
    "\n",
    "class EvalNet(nn.Module):\n",
    "    def __init__(self, in_size=8, dropout_rate=None):\n",
    "        super(type(self), self).__init__()\n",
    "        self.dropout = dropout_rate\n",
    "        if dropout_rate:\n",
    "            self.dropout = nn.Dropout(dropout_rate)\n",
    "        self.f1 = nn.Linear(in_size, 64)\n",
    "        self.f2 = nn.Linear(64,  128)\n",
    "        self.f3 = nn.Linear(128,  128)\n",
    "        self.f4 = nn.Linear(128,  1)\n",
    "\n",
    "    def forward(self, x):\n",
    "        out = x\n",
    "        out = F.relu(self.f1(out))\n",
    "        if self.dropout:\n",
    "            out = self.dropout(out)\n",
    "        out = F.relu(self.f2(out))\n",
    "        if self.dropout:\n",
    "            out = self.dropout(out)\n",
    "        out =self.f3(out)\n",
    "        out =self.f4(out)\n",
    "        return out  \n",
    "    \n",
    "correct = np.zeros(100)\n",
    "for x in range(100):\n",
    "    \n",
    "    model = EvalNet()\n",
    "    optimizer = optim.Adam(model.parameters(), weight_decay=0.0001*x)\n",
    "\n",
    "    use_cuda = torch.cuda.is_available()\n",
    "    inference_dataset = csvDataset(Xtest,Ytest,transform= ToTensor())\n",
    "    inference_loader = torch.utils.data.DataLoader(inference_dataset,batch_size=Xtest.shape[0], shuffle=False)\n",
    "    file_dataset = csvDataset(Xtrain,Ytrain,transform= ToTensor())\n",
    "    final_loader = torch.utils.data.DataLoader(file_dataset,batch_size=Xtrain.shape[0], shuffle=False)\n",
    "\n",
    "    if use_cuda:\n",
    "        model = model.float().cuda()\n",
    "\n",
    "    criterion = F.binary_cross_entropy_with_logits\n",
    "    model, train_loss, train_accuracy = train_model_cc_fast(model, [final_loader, final_loader], criterion,\n",
    "    optimizer, num_epochs=50)\n",
    "    model.eval()\n",
    "    with torch.no_grad():\n",
    "        for i in inference_loader:\n",
    "            inputs = i['data']\n",
    "            labels = i['label']\n",
    "            if use_cuda:\n",
    "                inputs, labels = inputs.cuda(), labels.cuda()\n",
    "            out = model.forward(inputs)\n",
    "            pred = (out.cpu().numpy()>0)*1.\n",
    "            labels = (labels.cpu().numpy())*1.\n",
    "\n",
    "    correct[x] =(np.sum(pred==labels)/Xtest.shape[0])\n",
    "    \n",
    "    plt.plot(np.arange(100)/10000,correct)"
   ]
  },
  {
   "cell_type": "code",
   "execution_count": 2,
   "metadata": {},
   "outputs": [],
   "source": [
    "Xtrain = np.load('Rail2Rail_OPA_v1/trainx.npy')\n",
    "Ytrain = np.load('Rail2Rail_OPA_v1/trainy.npy')*1.\n",
    "Xtest = np.load('Rail2Rail_OPA_v1/testx.npy')\n",
    "Ytest = np.load('Rail2Rail_OPA_v1/testy.npy')*1.\n",
    "\n",
    "\n",
    "for i in range(9):\n",
    "    Xtrain[:,i]=(Xtrain[:,i] - Xtrain[:,i].mean())/(Xtrain[:,i].std())\n",
    "    Xtest[:,i]=(Xtest[:,i] - Xtest[:,i].mean())/(Xtest[:,i].std())\n",
    "Ytrain = Ytrain.reshape(-1,1)\n",
    "Ytest = Ytest.reshape(-1,1) \n"
   ]
  },
  {
   "cell_type": "code",
   "execution_count": 5,
   "metadata": {},
   "outputs": [
    {
     "data": {
      "text/plain": [
       "(9472, 16)"
      ]
     },
     "execution_count": 5,
     "metadata": {},
     "output_type": "execute_result"
    }
   ],
   "source": [
    "Xtrain.shape"
   ]
  },
  {
   "cell_type": "code",
   "execution_count": 6,
   "metadata": {},
   "outputs": [],
   "source": [
    "class EvalNet(nn.Module):\n",
    "    def __init__(self, in_size=16, dropout_rate=None):\n",
    "        super(type(self), self).__init__()\n",
    "        self.dropout = dropout_rate\n",
    "        if dropout_rate:\n",
    "            self.dropout = nn.Dropout(dropout_rate)\n",
    "        self.f1 = nn.Linear(in_size, 64)\n",
    "        self.f2 = nn.Linear(64,  128)\n",
    "        self.f3 = nn.Linear(128,  128)\n",
    "        self.f4 = nn.Linear(128,  1)\n",
    "\n",
    "    def forward(self, x):\n",
    "        out = x\n",
    "        out = F.relu(self.f1(out))\n",
    "        if self.dropout:\n",
    "            out = self.dropout(out)\n",
    "        out = F.relu(self.f2(out))\n",
    "        if self.dropout:\n",
    "            out = self.dropout(out)\n",
    "        out =self.f3(out)\n",
    "        out =self.f4(out)\n",
    "        return out  "
   ]
  },
  {
   "cell_type": "code",
   "execution_count": null,
   "metadata": {},
   "outputs": [],
   "source": [
    "correct = np.zeros(100)\n",
    "for x in range(100):\n",
    "    \n",
    "    model = EvalNet()\n",
    "    optimizer = optim.Adam(model.parameters(), weight_decay=0.0001*x)\n",
    "\n",
    "    use_cuda = torch.cuda.is_available()\n",
    "    inference_dataset = csvDataset(Xtest,Ytest,transform= ToTensor())\n",
    "    inference_loader = torch.utils.data.DataLoader(inference_dataset,batch_size=Xtest.shape[0], shuffle=False)\n",
    "    file_dataset = csvDataset(Xtrain,Ytrain,transform= ToTensor())\n",
    "    final_loader = torch.utils.data.DataLoader(file_dataset,batch_size=Xtrain.shape[0], shuffle=False)\n",
    "\n",
    "    if use_cuda:\n",
    "        model = model.float().cuda()\n",
    "\n",
    "    criterion = F.binary_cross_entropy_with_logits\n",
    "    model, train_loss, train_accuracy = train_model_cc_fast(model, [final_loader, final_loader], criterion,\n",
    "    optimizer, num_epochs=50)\n",
    "    model.eval()\n",
    "    with torch.no_grad():\n",
    "        for i in inference_loader:\n",
    "            inputs = i['data']\n",
    "            labels = i['label']\n",
    "            if use_cuda:\n",
    "                inputs, labels = inputs.cuda(), labels.cuda()\n",
    "            out = model.forward(inputs)\n",
    "            pred = (out.cpu().numpy()>0)*1.\n",
    "            labels = (labels.cpu().numpy())*1.\n",
    "\n",
    "    correct[x] =(np.sum(pred==labels)/Xtest.shape[0])\n",
    "    \n",
    "plt.plot(np.arange(100)/10000,correct)"
   ]
  },
  {
   "cell_type": "code",
   "execution_count": null,
   "metadata": {},
   "outputs": [],
   "source": []
  }
 ],
 "metadata": {
  "kernelspec": {
   "display_name": "Python 3",
   "language": "python",
   "name": "python3"
  },
  "language_info": {
   "codemirror_mode": {
    "name": "ipython",
    "version": 3
   },
   "file_extension": ".py",
   "mimetype": "text/x-python",
   "name": "python",
   "nbconvert_exporter": "python",
   "pygments_lexer": "ipython3",
   "version": "3.6.8"
  }
 },
 "nbformat": 4,
 "nbformat_minor": 2
}
