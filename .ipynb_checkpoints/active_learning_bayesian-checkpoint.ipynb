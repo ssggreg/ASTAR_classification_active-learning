{
 "cells": [
  {
   "cell_type": "code",
   "execution_count": 1,
   "metadata": {},
   "outputs": [],
   "source": [
    "import torch\n",
    "import torch.nn as nn\n",
    "import torch.optim as optim\n",
    "from vogn import VOGN\n",
    "from models import SimpleConvNet\n",
    "from datasets import Dataset\n",
    "from utils import train_model\n",
    "from utils import inference\n",
    "import matplotlib.pyplot as plt\n",
    "import seaborn as sns\n",
    "import pandas as pd\n",
    "import numpy as np\n",
    "import torch.nn.functional as F\n",
    "sns.set()\n",
    "from torch.utils.data.dataloader import DataLoader"
   ]
  },
  {
   "cell_type": "code",
   "execution_count": 2,
   "metadata": {},
   "outputs": [],
   "source": [
    "import time"
   ]
  },
  {
   "cell_type": "markdown",
   "metadata": {},
   "source": [
    "Note : attention aux colums de file_A et file, columns en plus etc..."
   ]
  },
  {
   "cell_type": "code",
   "execution_count": 3,
   "metadata": {},
   "outputs": [
    {
     "name": "stdout",
     "output_type": "stream",
     "text": [
      "Using Cuda: True\n"
     ]
    },
    {
     "data": {
      "text/plain": [
       "<torch._C.Generator at 0x7f9b95017b70>"
      ]
     },
     "execution_count": 3,
     "metadata": {},
     "output_type": "execute_result"
    }
   ],
   "source": [
    "\n",
    "# Test wether GPUs are available\n",
    "use_cuda =  torch.cuda.is_available()\n",
    "print(\"Using Cuda: %s\" % use_cuda)\n",
    "\n",
    "# Set Random Seed\n",
    "torch.manual_seed(42)"
   ]
  },
  {
   "cell_type": "code",
   "execution_count": 4,
   "metadata": {},
   "outputs": [],
   "source": [
    "class csvDataset(Dataset):\n",
    "    \"\"\"Face Landmarks dataset.\"\"\"\n",
    "\n",
    "    def __init__(self, data,label, transform=None):\n",
    "        \n",
    "        self.label = label\n",
    "                \n",
    "        self.data = data\n",
    "         \n",
    "        #self.train_set = TensorDataset()\n",
    "        self.transform = transform\n",
    "\n",
    "    def __len__(self):\n",
    "        return len(self.data)\n",
    "\n",
    "    def __getitem__(self, idx):\n",
    "\n",
    "        data = self.data[idx]\n",
    "        label = self.label[idx]\n",
    "        sample = { 'data': data,'label': label}\n",
    "\n",
    "        if self.transform:\n",
    "            sample = self.transform(sample)\n",
    "\n",
    "        return sample\n",
    "    \n",
    "class ToTensor(object):\n",
    "    \"\"\"Convert ndarrays in sample to Tensors.\"\"\"\n",
    "\n",
    "    def __call__(self, sample):\n",
    "        \n",
    "        data, label  = sample['data'],sample['label']\n",
    "        \n",
    "        \n",
    "        return {'data': torch.from_numpy(data).float(),\n",
    "                'label': torch.from_numpy(label).float()}"
   ]
  },
  {
   "cell_type": "code",
   "execution_count": 68,
   "metadata": {},
   "outputs": [],
   "source": [
    "class SimpleConvNet(nn.Module):\n",
    "    def __init__(self):\n",
    "        super(type(self), self).__init__()\n",
    "        \n",
    "        self.layer1 = nn.Linear(16, 64)\n",
    "        self.layer2 = nn.Linear(64, 256)\n",
    "        self.layer3 = nn.Linear(256, 64)\n",
    "        self.layer4 = nn.Linear(64, 1)\n",
    "        \n",
    "        \n",
    "    def forward(self, x):\n",
    "        x = F.relu(self.layer1(x))\n",
    "        x = F.relu(self.layer2(x))\n",
    "        x = F.relu(self.layer3(x))\n",
    "        out = self.layer4(x)\n",
    "        return out"
   ]
  },
  {
   "cell_type": "code",
   "execution_count": 69,
   "metadata": {},
   "outputs": [],
   "source": [
    "from sklearn.model_selection import train_test_split\n",
    "from numpy.random import seed\n",
    "seed(1)"
   ]
  },
  {
   "cell_type": "code",
   "execution_count": null,
   "metadata": {},
   "outputs": [],
   "source": []
  },
  {
   "cell_type": "code",
   "execution_count": 20,
   "metadata": {},
   "outputs": [],
   "source": [
    "file_A=pd.read_csv('circuit-design/opAmp_280nm_GF55.csv')\n",
    "file = pd.read_csv('circuit-design/opAmp_280nm_GF55_Mod_30P.csv')\n",
    "        \n",
    "a=['Pass/Fail']\n",
    "\n",
    "label = np.array(file[a].values=='Fail')*(-1.)+1\n",
    "\n",
    "a = []\n",
    "\n",
    "for i in list(file_A.columns):\n",
    "    if i != 'Pass/Fail':\n",
    "        a.append(i)\n",
    "\n",
    "data = np.array(file[a].values)\n",
    "for i in range(16):\n",
    "    data[:,i]=(data[:,i] - data[:,i].mean())/(data[:,i].std())\n"
   ]
  },
  {
   "cell_type": "code",
   "execution_count": 21,
   "metadata": {},
   "outputs": [],
   "source": [
    "trainX_tmp, testX, trainY_tmp, testY  = train_test_split(data, label, test_size=0.2, random_state=1)\n",
    "trainX_tmp, valX, trainY_tmp, valY = train_test_split(trainX_tmp, trainY_tmp, test_size=0.25, random_state=1)"
   ]
  },
  {
   "cell_type": "code",
   "execution_count": 22,
   "metadata": {},
   "outputs": [
    {
     "data": {
      "text/plain": [
       "((6912, 16), (6912, 1))"
      ]
     },
     "execution_count": 22,
     "metadata": {},
     "output_type": "execute_result"
    }
   ],
   "source": [
    "X = np.concatenate((trainX_tmp,valX,testX),axis=0)\n",
    "Y = np.concatenate((trainY_tmp,valY,testY),axis=0)\n",
    "X.shape,Y.shape"
   ]
  },
  {
   "cell_type": "code",
   "execution_count": 25,
   "metadata": {},
   "outputs": [
    {
     "data": {
      "text/plain": [
       "6912"
      ]
     },
     "execution_count": 25,
     "metadata": {},
     "output_type": "execute_result"
    }
   ],
   "source": [
    "4146+1383+1383"
   ]
  },
  {
   "cell_type": "markdown",
   "metadata": {},
   "source": [
    "_______________________\n"
   ]
  },
  {
   "cell_type": "markdown",
   "metadata": {},
   "source": [
    "__________________"
   ]
  },
  {
   "cell_type": "code",
   "execution_count": 26,
   "metadata": {},
   "outputs": [],
   "source": [
    "file_dataset = csvDataset(X,Y,transform= ToTensor())"
   ]
  },
  {
   "cell_type": "code",
   "execution_count": null,
   "metadata": {},
   "outputs": [],
   "source": []
  },
  {
   "cell_type": "code",
   "execution_count": 27,
   "metadata": {},
   "outputs": [],
   "source": [
    "#dataset_loader = torch.utils.data.DataLoader(file_dataset,batch_size=43, shuffle=True)\n",
    "dataset_loader = torch.utils.data.DataLoader(file_dataset,\n",
    "                                             batch_size=1, shuffle=False)"
   ]
  },
  {
   "cell_type": "code",
   "execution_count": 28,
   "metadata": {},
   "outputs": [],
   "source": [
    "inference_loader = torch.utils.data.DataLoader(file_dataset,\n",
    "                                             batch_size=6912, shuffle=False)"
   ]
  },
  {
   "cell_type": "code",
   "execution_count": 29,
   "metadata": {},
   "outputs": [],
   "source": [
    "def train_model_bb(liste,model, dataloaders, criterion, optimizer, num_epochs=25):\n",
    "    \"\"\"\n",
    "    Performs Training and Validation on test set on the given model using the specified optimizer\n",
    "    :param model: (nn.Module) Model to be trained\n",
    "    :param dataloaders: (list) train and test dataloaders\n",
    "    :param criterion: Loss Function\n",
    "    :param optimizer: Optimizer to be used for training\n",
    "    :param num_epochs: Number of epochs to train the model\n",
    "    :return: trained model, test and train metric history\n",
    "    \"\"\"\n",
    "    trainloader, testloader = dataloaders\n",
    "    for epoch in range(num_epochs):\n",
    "        listee = liste.copy()\n",
    "        d = listee.pop()\n",
    "        model.train(True)\n",
    "        print('Epoch[%d]:' % epoch)\n",
    "        running_train_loss = 0.\n",
    "        a=-1\n",
    "        for i in (trainloader):\n",
    "            a+=1\n",
    "            if (a==d):\n",
    "                inputs = i['data']\n",
    "                labels = i['label']\n",
    "                if use_cuda:\n",
    "                    inputs, labels = inputs.cuda(), labels.cuda()\n",
    "                if isinstance(optimizer, VOGN):\n",
    "                    def closure():\n",
    "                        optimizer.zero_grad()\n",
    "                        logits = model.forward(inputs)\n",
    "                        loss = criterion(logits, labels)\n",
    "                        return loss\n",
    "                else:\n",
    "                    def closure():\n",
    "                        optimizer.zero_grad()\n",
    "                        logits = model.forward(inputs)\n",
    "                        loss = criterion(logits, labels)\n",
    "                        loss.backward()\n",
    "                        return loss\n",
    "                loss = optimizer.step(closure)\n",
    "                running_train_loss += loss.detach().item()\n",
    "                if len(listee)!=0:\n",
    "                    d = listee.pop()\n",
    "                else :\n",
    "                    break\n",
    "\n",
    "            # Print Training Progress\n",
    "            if a%500 == 100:\n",
    "                train_accuracy = accuracy_bb(model, trainloader)\n",
    "                print('Iteration[%d]:  Train Accuracy: %f ' % (a+1, train_accuracy))\n",
    "\n",
    "        train_accuracy, train_loss = accuracy_bb(model, trainloader, criterion)\n",
    "        print('## Epoch[%d], Train Loss: %f   &   Train Accuracy: %f' % (epoch, train_loss, train_accuracy))\n",
    "    return model, train_loss, train_accuracy"
   ]
  },
  {
   "cell_type": "code",
   "execution_count": 30,
   "metadata": {},
   "outputs": [],
   "source": [
    "def train_model_cc(model, dataloaders, criterion, optimizer, num_epochs=25):\n",
    "    \"\"\"\n",
    "    Performs Training and Validation on test set on the given model using the specified optimizer\n",
    "    :param model: (nn.Module) Model to be trained\n",
    "    :param dataloaders: (list) train and test dataloaders\n",
    "    :param criterion: Loss Function\n",
    "    :param optimizer: Optimizer to be used for training\n",
    "    :param num_epochs: Number of epochs to train the model\n",
    "    :return: trained model, test and train metric history\n",
    "    \"\"\"\n",
    "    trainloader, testloader = dataloaders\n",
    "    for epoch in range(num_epochs):\n",
    "        model.train(True)\n",
    "        print('Epoch[%d]:' % epoch)\n",
    "        running_train_loss = 0.\n",
    "        a=-1\n",
    "        for i in (trainloader):\n",
    "            a+=1\n",
    "            inputs = i['data']\n",
    "            labels = i['label']\n",
    "            if use_cuda:\n",
    "                inputs, labels = inputs.cuda(), labels.cuda()\n",
    "            if isinstance(optimizer, VOGN):\n",
    "                def closure():\n",
    "                    optimizer.zero_grad()\n",
    "                    logits = model.forward(inputs)\n",
    "                    loss = criterion(logits, labels)\n",
    "                    return loss\n",
    "            else:\n",
    "                def closure():\n",
    "                    optimizer.zero_grad()\n",
    "                    logits = model.forward(inputs)\n",
    "                    loss = criterion(logits, labels)\n",
    "                    loss.backward()\n",
    "                    return loss\n",
    "            loss = optimizer.step(closure)\n",
    "            running_train_loss += loss.detach().item()\n",
    "\n",
    "\n",
    "            # Print Training Progress\n",
    "            if a%500 == 100:\n",
    "                train_accuracy = accuracy_bb(model, trainloader)\n",
    "                print('Iteration[%d]:  Train Accuracy: %f ' % (a+1, train_accuracy))\n",
    "\n",
    "        train_accuracy, train_loss = accuracy_bb(model, trainloader, criterion)\n",
    "        print('## Epoch[%d], Train Loss: %f   &   Train Accuracy: %f' % (epoch, train_loss, train_accuracy))\n",
    "    return model, train_loss, train_accuracy"
   ]
  },
  {
   "cell_type": "code",
   "execution_count": 31,
   "metadata": {},
   "outputs": [],
   "source": [
    "def accuracy_bb(model, dataloader, criterion=None):\n",
    "    \"\"\" Computes the model's classification accuracy on the train dataset\n",
    "        Computes classification accuracy and loss(optional) on the test dataset\n",
    "        The model should return logits\n",
    "    \"\"\"\n",
    "    model.eval()\n",
    "    with torch.no_grad():\n",
    "        correct = 0.\n",
    "        running_loss = 0.\n",
    "        for i in (dataloader):\n",
    "            inputs = i['data']\n",
    "            labels = i['label']\n",
    "            if use_cuda:\n",
    "                inputs, labels = inputs.cuda(), labels.cuda()\n",
    "            outputs = model(inputs)\n",
    "            if criterion is not None:\n",
    "                loss = criterion(outputs, labels)\n",
    "                running_loss += loss.item()\n",
    "            pred = (outputs>0).float()\n",
    "            correct += (pred.view(-1,1) == labels).sum().item()\n",
    "        accuracy = correct / len(dataloader.dataset)\n",
    "        if criterion is not None:\n",
    "            running_loss = running_loss / len(dataloader)\n",
    "            return accuracy, loss\n",
    "    return accuracy"
   ]
  },
  {
   "cell_type": "code",
   "execution_count": 73,
   "metadata": {},
   "outputs": [],
   "source": [
    "model = SimpleConvNet()\n",
    "if use_cuda:\n",
    "    model = model.float().cuda()\n",
    "criterion = F.binary_cross_entropy_with_logits\n",
    "optimizer = VOGN(model, train_set_size=6912, prec_init=1e2, num_samples=4)"
   ]
  },
  {
   "cell_type": "code",
   "execution_count": null,
   "metadata": {},
   "outputs": [],
   "source": []
  },
  {
   "cell_type": "code",
   "execution_count": 93,
   "metadata": {},
   "outputs": [
    {
     "name": "stdout",
     "output_type": "stream",
     "text": [
      "Epoch[0]:\n",
      "## Epoch[0], Train Loss: 0.543661   &   Train Accuracy: 0.576244\n",
      "Epoch[1]:\n",
      "## Epoch[1], Train Loss: 0.541200   &   Train Accuracy: 0.568721\n",
      "Epoch[2]:\n",
      "## Epoch[2], Train Loss: 0.617417   &   Train Accuracy: 0.547309\n",
      "Epoch[3]:\n",
      "## Epoch[3], Train Loss: 0.585955   &   Train Accuracy: 0.606192\n",
      "Epoch[4]:\n",
      "## Epoch[4], Train Loss: 0.813239   &   Train Accuracy: 0.516348\n",
      "Epoch[5]:\n",
      "## Epoch[5], Train Loss: 0.824004   &   Train Accuracy: 0.551071\n",
      "Epoch[6]:\n",
      "## Epoch[6], Train Loss: 0.775824   &   Train Accuracy: 0.593027\n",
      "Epoch[7]:\n",
      "## Epoch[7], Train Loss: 0.762786   &   Train Accuracy: 0.619068\n",
      "Epoch[8]:\n",
      "## Epoch[8], Train Loss: 0.731797   &   Train Accuracy: 0.624566\n",
      "Epoch[9]:\n",
      "## Epoch[9], Train Loss: 0.718731   &   Train Accuracy: 0.631655\n",
      "Epoch[10]:\n",
      "## Epoch[10], Train Loss: 0.657994   &   Train Accuracy: 0.660735\n",
      "Epoch[11]:\n",
      "## Epoch[11], Train Loss: 0.589763   &   Train Accuracy: 0.690538\n",
      "Epoch[12]:\n",
      "## Epoch[12], Train Loss: 0.609310   &   Train Accuracy: 0.692853\n",
      "Epoch[13]:\n",
      "## Epoch[13], Train Loss: 0.496569   &   Train Accuracy: 0.717593\n",
      "Epoch[14]:\n",
      "## Epoch[14], Train Loss: 0.461936   &   Train Accuracy: 0.721499\n"
     ]
    }
   ],
   "source": [
    "model, train_loss, train_accuracy = train_model_bb([11,10,9,8,7,6,5,4,3,2,1,0],model, [dataset_loader, dataset_loader], criterion,\n",
    "optimizer, num_epochs=15)"
   ]
  },
  {
   "cell_type": "code",
   "execution_count": null,
   "metadata": {},
   "outputs": [],
   "source": []
  },
  {
   "cell_type": "code",
   "execution_count": 94,
   "metadata": {},
   "outputs": [],
   "source": [
    "def inference_bb(model, data_loader, optimizer,mc_samples):\n",
    "    a=0\n",
    "    for i in (data_loader):\n",
    "            inputs = i['data']\n",
    "            labels = i['label']\n",
    "            \n",
    "    if use_cuda:\n",
    "        inputs, labels = inputs.cuda(), labels.cuda()\n",
    "                \n",
    "    return optimizer.get_mc_predictions(model.forward,inputs,mc_samples=mc_samples)[0]>0,labels"
   ]
  },
  {
   "cell_type": "code",
   "execution_count": 95,
   "metadata": {},
   "outputs": [
    {
     "name": "stdout",
     "output_type": "stream",
     "text": [
      "11.002560377120972\n"
     ]
    }
   ],
   "source": [
    "predict = torch.zeros(100,6912).cuda()\n",
    "labz = torch.zeros(100,6912).cuda()\n",
    "start = time.time()\n",
    "model.eval()\n",
    "with torch.no_grad():\n",
    "    for i in range(100):\n",
    "        predictions,lbl = inference_bb(model, inference_loader,optimizer,1)\n",
    "        predict[i] = predictions.view(6912)\n",
    "        labz[i] = lbl.view(6912)\n",
    "end = time.time()\n",
    "print(end - start)"
   ]
  },
  {
   "cell_type": "code",
   "execution_count": 96,
   "metadata": {},
   "outputs": [
    {
     "data": {
      "text/plain": [
       "array([0.15, 0.21, 0.93, ..., 0.95, 0.23, 0.91], dtype=float32)"
      ]
     },
     "execution_count": 96,
     "metadata": {},
     "output_type": "execute_result"
    }
   ],
   "source": [
    "predict_train = np.sum(predict[:,:4146].cpu().numpy(),axis=0)/100\n",
    "predict_train"
   ]
  },
  {
   "cell_type": "code",
   "execution_count": 97,
   "metadata": {},
   "outputs": [
    {
     "data": {
      "text/plain": [
       "(array([0.15, 0.21, 0.93, 0.9 , 0.9 , 0.29, 0.7 , 0.93, 0.17, 0.13, 0.09,\n",
       "        0.69], dtype=float32),\n",
       " array([0., 0., 1., 1., 1., 0., 1., 1., 0., 0., 0., 1.]))"
      ]
     },
     "execution_count": 97,
     "metadata": {},
     "output_type": "execute_result"
    }
   ],
   "source": [
    "predict_train[:12],Y[:12].reshape(-1)"
   ]
  },
  {
   "cell_type": "code",
   "execution_count": 98,
   "metadata": {},
   "outputs": [
    {
     "data": {
      "image/png": "[encoded data removed]",
      "text/plain": [
       "<Figure size 432x288 with 1 Axes>"
      ]
     },
     "metadata": {
      "needs_background": "light"
     },
     "output_type": "display_data"
    }
   ],
   "source": [
    "plt.hist(predict_train, bins='auto')\n",
    "plt.title(\"Histogram with 'auto' bins\")\n",
    "plt.show()\n"
   ]
  },
  {
   "cell_type": "code",
   "execution_count": 80,
   "metadata": {},
   "outputs": [],
   "source": [
    "def f (x):\n",
    "    return x*(1-x)"
   ]
  },
  {
   "cell_type": "code",
   "execution_count": 81,
   "metadata": {},
   "outputs": [],
   "source": [
    "a =list(np.argsort(f(predict_train))[3746:])+[11,10,9,8,7,6,5,4,3,2,1,0]\n"
   ]
  },
  {
   "cell_type": "code",
   "execution_count": 82,
   "metadata": {},
   "outputs": [
    {
     "data": {
      "text/plain": [
       "(412,)"
      ]
     },
     "execution_count": 82,
     "metadata": {},
     "output_type": "execute_result"
    }
   ],
   "source": [
    "a.sort(reverse = True)\n",
    "\n",
    "a = list(dict.fromkeys(a))\n",
    "predict_train[a].shape"
   ]
  },
  {
   "cell_type": "code",
   "execution_count": 83,
   "metadata": {},
   "outputs": [],
   "source": [
    "xxtrain = X[a]\n",
    "yytrain = Y[a]\n",
    "yytrain.shape\n",
    "file_train = csvDataset(xxtrain,yytrain,transform= ToTensor())\n",
    "final_train_loader = torch.utils.data.DataLoader(file_train,\n",
    "                                             batch_size=1, shuffle=False)"
   ]
  },
  {
   "cell_type": "code",
   "execution_count": 84,
   "metadata": {},
   "outputs": [],
   "source": [
    "criterion = F.binary_cross_entropy_with_logits\n",
    "optimizer = VOGN(model, train_set_size=412, prec_init=1e2, num_samples=10)\n",
    "optimizer_bb = optim.Adam(model.parameters())"
   ]
  },
  {
   "cell_type": "code",
   "execution_count": 129,
   "metadata": {},
   "outputs": [
    {
     "name": "stdout",
     "output_type": "stream",
     "text": [
      "Epoch[0]:\n",
      "Iteration[101]:  Train Accuracy: 0.837379 \n",
      "## Epoch[0], Train Loss: 0.024900   &   Train Accuracy: 0.907767\n",
      "Epoch[1]:\n",
      "Iteration[101]:  Train Accuracy: 0.890777 \n",
      "## Epoch[1], Train Loss: 0.017478   &   Train Accuracy: 0.968447\n",
      "Epoch[2]:\n",
      "Iteration[101]:  Train Accuracy: 0.953883 \n",
      "## Epoch[2], Train Loss: 0.004618   &   Train Accuracy: 0.958738\n",
      "Epoch[3]:\n",
      "Iteration[101]:  Train Accuracy: 0.968447 \n",
      "## Epoch[3], Train Loss: 0.000051   &   Train Accuracy: 0.973301\n",
      "Epoch[4]:\n",
      "Iteration[101]:  Train Accuracy: 0.985437 \n",
      "## Epoch[4], Train Loss: 0.000024   &   Train Accuracy: 0.968447\n",
      "Epoch[5]:\n",
      "Iteration[101]:  Train Accuracy: 0.992718 \n",
      "## Epoch[5], Train Loss: 0.000017   &   Train Accuracy: 0.997573\n",
      "Epoch[6]:\n",
      "Iteration[101]:  Train Accuracy: 0.997573 \n",
      "## Epoch[6], Train Loss: 0.000010   &   Train Accuracy: 0.987864\n",
      "Epoch[7]:\n",
      "Iteration[101]:  Train Accuracy: 0.997573 \n",
      "## Epoch[7], Train Loss: 0.000008   &   Train Accuracy: 0.990291\n",
      "Epoch[8]:\n",
      "Iteration[101]:  Train Accuracy: 0.995146 \n",
      "## Epoch[8], Train Loss: 0.000006   &   Train Accuracy: 0.992718\n",
      "Epoch[9]:\n",
      "Iteration[101]:  Train Accuracy: 0.997573 \n",
      "## Epoch[9], Train Loss: 0.000001   &   Train Accuracy: 0.997573\n",
      "Epoch[10]:\n",
      "Iteration[101]:  Train Accuracy: 1.000000 \n",
      "## Epoch[10], Train Loss: 0.000002   &   Train Accuracy: 0.953883\n",
      "Epoch[11]:\n",
      "Iteration[101]:  Train Accuracy: 0.888350 \n",
      "## Epoch[11], Train Loss: 0.000000   &   Train Accuracy: 0.987864\n",
      "Epoch[12]:\n",
      "Iteration[101]:  Train Accuracy: 0.995146 \n",
      "## Epoch[12], Train Loss: 0.000000   &   Train Accuracy: 1.000000\n",
      "Epoch[13]:\n",
      "Iteration[101]:  Train Accuracy: 1.000000 \n",
      "## Epoch[13], Train Loss: 0.000000   &   Train Accuracy: 1.000000\n",
      "Epoch[14]:\n",
      "Iteration[101]:  Train Accuracy: 1.000000 \n",
      "## Epoch[14], Train Loss: 0.000000   &   Train Accuracy: 1.000000\n",
      "Epoch[15]:\n",
      "Iteration[101]:  Train Accuracy: 1.000000 \n",
      "## Epoch[15], Train Loss: 0.000000   &   Train Accuracy: 1.000000\n",
      "Epoch[16]:\n",
      "Iteration[101]:  Train Accuracy: 1.000000 \n",
      "## Epoch[16], Train Loss: 0.000000   &   Train Accuracy: 1.000000\n",
      "Epoch[17]:\n",
      "Iteration[101]:  Train Accuracy: 1.000000 \n",
      "## Epoch[17], Train Loss: 0.000000   &   Train Accuracy: 1.000000\n",
      "Epoch[18]:\n",
      "Iteration[101]:  Train Accuracy: 1.000000 \n",
      "## Epoch[18], Train Loss: 0.000000   &   Train Accuracy: 1.000000\n",
      "Epoch[19]:\n",
      "Iteration[101]:  Train Accuracy: 1.000000 \n",
      "## Epoch[19], Train Loss: 0.000000   &   Train Accuracy: 1.000000\n",
      "Epoch[20]:\n",
      "Iteration[101]:  Train Accuracy: 1.000000 \n",
      "## Epoch[20], Train Loss: 0.000000   &   Train Accuracy: 1.000000\n",
      "Epoch[21]:\n",
      "Iteration[101]:  Train Accuracy: 1.000000 \n",
      "## Epoch[21], Train Loss: 0.000000   &   Train Accuracy: 1.000000\n",
      "Epoch[22]:\n",
      "Iteration[101]:  Train Accuracy: 1.000000 \n",
      "## Epoch[22], Train Loss: 0.000000   &   Train Accuracy: 1.000000\n",
      "Epoch[23]:\n",
      "Iteration[101]:  Train Accuracy: 1.000000 \n",
      "## Epoch[23], Train Loss: 0.000000   &   Train Accuracy: 1.000000\n",
      "Epoch[24]:\n",
      "Iteration[101]:  Train Accuracy: 1.000000 \n",
      "## Epoch[24], Train Loss: 0.000000   &   Train Accuracy: 1.000000\n",
      "Epoch[25]:\n",
      "Iteration[101]:  Train Accuracy: 1.000000 \n",
      "## Epoch[25], Train Loss: 0.000000   &   Train Accuracy: 1.000000\n",
      "Epoch[26]:\n",
      "Iteration[101]:  Train Accuracy: 1.000000 \n",
      "## Epoch[26], Train Loss: 0.000000   &   Train Accuracy: 1.000000\n",
      "Epoch[27]:\n",
      "Iteration[101]:  Train Accuracy: 1.000000 \n",
      "## Epoch[27], Train Loss: 0.000000   &   Train Accuracy: 1.000000\n",
      "Epoch[28]:\n",
      "Iteration[101]:  Train Accuracy: 1.000000 \n",
      "## Epoch[28], Train Loss: 0.000000   &   Train Accuracy: 1.000000\n",
      "Epoch[29]:\n",
      "Iteration[101]:  Train Accuracy: 1.000000 \n",
      "## Epoch[29], Train Loss: 0.000000   &   Train Accuracy: 1.000000\n",
      "Epoch[30]:\n",
      "Iteration[101]:  Train Accuracy: 1.000000 \n",
      "## Epoch[30], Train Loss: 0.000000   &   Train Accuracy: 1.000000\n",
      "Epoch[31]:\n",
      "Iteration[101]:  Train Accuracy: 1.000000 \n",
      "## Epoch[31], Train Loss: 0.000000   &   Train Accuracy: 1.000000\n",
      "Epoch[32]:\n",
      "Iteration[101]:  Train Accuracy: 1.000000 \n",
      "## Epoch[32], Train Loss: 0.000000   &   Train Accuracy: 1.000000\n",
      "Epoch[33]:\n",
      "Iteration[101]:  Train Accuracy: 1.000000 \n",
      "## Epoch[33], Train Loss: 0.000000   &   Train Accuracy: 1.000000\n",
      "Epoch[34]:\n",
      "Iteration[101]:  Train Accuracy: 1.000000 \n",
      "## Epoch[34], Train Loss: 0.000000   &   Train Accuracy: 1.000000\n",
      "Epoch[35]:\n",
      "Iteration[101]:  Train Accuracy: 1.000000 \n",
      "## Epoch[35], Train Loss: 0.000000   &   Train Accuracy: 1.000000\n",
      "Epoch[36]:\n",
      "Iteration[101]:  Train Accuracy: 1.000000 \n",
      "## Epoch[36], Train Loss: 0.000000   &   Train Accuracy: 1.000000\n",
      "Epoch[37]:\n",
      "Iteration[101]:  Train Accuracy: 1.000000 \n",
      "## Epoch[37], Train Loss: 0.000000   &   Train Accuracy: 1.000000\n",
      "Epoch[38]:\n",
      "Iteration[101]:  Train Accuracy: 1.000000 \n",
      "## Epoch[38], Train Loss: 0.000000   &   Train Accuracy: 1.000000\n",
      "Epoch[39]:\n",
      "Iteration[101]:  Train Accuracy: 1.000000 \n",
      "## Epoch[39], Train Loss: 0.000000   &   Train Accuracy: 1.000000\n",
      "Epoch[40]:\n",
      "Iteration[101]:  Train Accuracy: 1.000000 \n",
      "## Epoch[40], Train Loss: 0.000000   &   Train Accuracy: 1.000000\n",
      "Epoch[41]:\n",
      "Iteration[101]:  Train Accuracy: 1.000000 \n",
      "## Epoch[41], Train Loss: 0.000000   &   Train Accuracy: 1.000000\n",
      "Epoch[42]:\n",
      "Iteration[101]:  Train Accuracy: 1.000000 \n",
      "## Epoch[42], Train Loss: 0.000000   &   Train Accuracy: 1.000000\n",
      "Epoch[43]:\n",
      "Iteration[101]:  Train Accuracy: 1.000000 \n",
      "## Epoch[43], Train Loss: 0.000000   &   Train Accuracy: 1.000000\n",
      "Epoch[44]:\n",
      "Iteration[101]:  Train Accuracy: 1.000000 \n",
      "## Epoch[44], Train Loss: 0.000000   &   Train Accuracy: 1.000000\n",
      "Epoch[45]:\n",
      "Iteration[101]:  Train Accuracy: 1.000000 \n",
      "## Epoch[45], Train Loss: 0.000000   &   Train Accuracy: 1.000000\n",
      "Epoch[46]:\n",
      "Iteration[101]:  Train Accuracy: 1.000000 \n",
      "## Epoch[46], Train Loss: 0.000000   &   Train Accuracy: 1.000000\n",
      "Epoch[47]:\n",
      "Iteration[101]:  Train Accuracy: 1.000000 \n",
      "## Epoch[47], Train Loss: 0.000000   &   Train Accuracy: 1.000000\n",
      "Epoch[48]:\n",
      "Iteration[101]:  Train Accuracy: 1.000000 \n",
      "## Epoch[48], Train Loss: 0.000000   &   Train Accuracy: 1.000000\n",
      "Epoch[49]:\n",
      "Iteration[101]:  Train Accuracy: 1.000000 \n",
      "## Epoch[49], Train Loss: 0.000000   &   Train Accuracy: 1.000000\n",
      "56.2172966003418\n"
     ]
    }
   ],
   "source": [
    "start = time.time()\n",
    "\n",
    "model, train_loss, train_accuracy = train_model_cc(model, [final_train_loader, final_train_loader], criterion,\n",
    "optimizer_bb, num_epochs=50)\n",
    "end = time.time()\n",
    "print(end - start)"
   ]
  },
  {
   "cell_type": "code",
   "execution_count": 120,
   "metadata": {},
   "outputs": [
    {
     "name": "stdout",
     "output_type": "stream",
     "text": [
      "11.166547060012817\n"
     ]
    }
   ],
   "source": [
    "predict = torch.zeros(100,6912).cuda()\n",
    "labz = torch.zeros(100,6912).cuda()\n",
    "start = time.time()\n",
    "for i in range(100):\n",
    "    predictions,lbl = inference_bb(model, inference_loader,optimizer,1)\n",
    "    predict[i] = predictions.view(6912)\n",
    "    labz[i] = lbl.view(6912)\n",
    "end = time.time()\n",
    "print(end - start)"
   ]
  },
  {
   "cell_type": "code",
   "execution_count": 121,
   "metadata": {},
   "outputs": [
    {
     "data": {
      "text/plain": [
       "(6912,)"
      ]
     },
     "execution_count": 121,
     "metadata": {},
     "output_type": "execute_result"
    }
   ],
   "source": [
    "result = (np.sum(predict.cpu().numpy(),axis=0)>0.5)*1.\n",
    "result.shape"
   ]
  },
  {
   "cell_type": "code",
   "execution_count": 122,
   "metadata": {},
   "outputs": [
    {
     "data": {
      "text/plain": [
       "((6912,), (2766,))"
      ]
     },
     "execution_count": 122,
     "metadata": {},
     "output_type": "execute_result"
    }
   ],
   "source": [
    "labels = (np.sum(labz.cpu().numpy(),axis=0)>0.5)*1.\n",
    "labels.shape,labels[4146:].shape"
   ]
  },
  {
   "cell_type": "code",
   "execution_count": 123,
   "metadata": {},
   "outputs": [
    {
     "name": "stdout",
     "output_type": "stream",
     "text": [
      "0.3188720173535792\n"
     ]
    }
   ],
   "source": [
    "print(np.sum(result[4146:]==labels[4146:])/2766)"
   ]
  },
  {
   "cell_type": "markdown",
   "metadata": {},
   "source": [
    "0.615 ///0.656"
   ]
  },
  {
   "cell_type": "code",
   "execution_count": 124,
   "metadata": {},
   "outputs": [
    {
     "data": {
      "text/plain": [
       "(4146,)"
      ]
     },
     "execution_count": 124,
     "metadata": {},
     "output_type": "execute_result"
    }
   ],
   "source": [
    "predict_train = np.sum(predict[:,:4146].cpu().numpy(),axis=0)/100\n",
    "predict_train.shape"
   ]
  },
  {
   "cell_type": "code",
   "execution_count": 125,
   "metadata": {},
   "outputs": [
    {
     "data": {
      "image/png": "[encoded data removed]",
      "text/plain": [
       "<Figure size 432x288 with 1 Axes>"
      ]
     },
     "metadata": {
      "needs_background": "light"
     },
     "output_type": "display_data"
    }
   ],
   "source": [
    "plt.hist(predict_train, bins='auto')\n",
    "plt.title(\"Histogram with 'auto' bins\")\n",
    "plt.show()"
   ]
  },
  {
   "cell_type": "code",
   "execution_count": 130,
   "metadata": {},
   "outputs": [],
   "source": [
    "model.eval()\n",
    "with torch.no_grad():\n",
    "    for i in inference_loader:\n",
    "        inputs = i['data']\n",
    "        labels = i['label']\n",
    "        if use_cuda:\n",
    "            inputs, labels = inputs.cuda(), labels.cuda()\n",
    "        out = model.forward(inputs)"
   ]
  },
  {
   "cell_type": "code",
   "execution_count": 131,
   "metadata": {},
   "outputs": [],
   "source": [
    "pred = (out.cpu().numpy()>0)*1.\n",
    "labels = (labels.cpu().numpy())*1."
   ]
  },
  {
   "cell_type": "code",
   "execution_count": 132,
   "metadata": {},
   "outputs": [
    {
     "name": "stdout",
     "output_type": "stream",
     "text": [
      "0.868763557483731\n"
     ]
    }
   ],
   "source": [
    "correct = print(np.sum(pred[4146:]==labels[4146:])/2766)"
   ]
  },
  {
   "cell_type": "code",
   "execution_count": null,
   "metadata": {},
   "outputs": [],
   "source": []
  }
 ],
 "metadata": {
  "kernelspec": {
   "display_name": "Python 3",
   "language": "python",
   "name": "python3"
  },
  "language_info": {
   "codemirror_mode": {
    "name": "ipython",
    "version": 3
   },
   "file_extension": ".py",
   "mimetype": "text/x-python",
   "name": "python",
   "nbconvert_exporter": "python",
   "pygments_lexer": "ipython3",
   "version": "3.6.8"
  }
 },
 "nbformat": 4,
 "nbformat_minor": 2
}
