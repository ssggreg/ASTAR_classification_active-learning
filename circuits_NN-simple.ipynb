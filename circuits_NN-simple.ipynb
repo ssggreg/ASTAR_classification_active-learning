{
 "cells": [
  {
   "cell_type": "code",
   "execution_count": 21,
   "metadata": {},
   "outputs": [],
   "source": [
    "import torch\n",
    "import torch.nn as nn\n",
    "import torch.optim as optim\n",
    "from vogn import VOGN\n",
    "from models import SimpleConvNet\n",
    "from datasets import Dataset\n",
    "from utils import train_model\n",
    "from utils import inference\n",
    "import matplotlib.pyplot as plt\n",
    "import seaborn as sns\n",
    "import pandas as pd\n",
    "import numpy as np\n",
    "import torch.nn.functional as F\n",
    "import time\n",
    "sns.set()\n",
    "from torch.utils.data.dataloader import DataLoader"
   ]
  },
  {
   "cell_type": "markdown",
   "metadata": {},
   "source": [
    "Note : attention aux colums de file_A et file, columns en plus etc..."
   ]
  },
  {
   "cell_type": "code",
   "execution_count": 2,
   "metadata": {},
   "outputs": [
    {
     "name": "stdout",
     "output_type": "stream",
     "text": [
      "Using Cuda: True\n"
     ]
    },
    {
     "data": {
      "text/plain": [
       "<torch._C.Generator at 0x7f9edb734b90>"
      ]
     },
     "execution_count": 2,
     "metadata": {},
     "output_type": "execute_result"
    }
   ],
   "source": [
    "\n",
    "# Test wether GPUs are available\n",
    "use_cuda =  torch.cuda.is_available()\n",
    "print(\"Using Cuda: %s\" % use_cuda)\n",
    "\n",
    "# Set Random Seed\n",
    "torch.manual_seed(42)"
   ]
  },
  {
   "cell_type": "code",
   "execution_count": 3,
   "metadata": {},
   "outputs": [],
   "source": [
    "class csvDataset(Dataset):\n",
    "    \"\"\"Face Landmarks dataset.\"\"\"\n",
    "\n",
    "    def __init__(self, csv_file, transform=None):\n",
    "        \"\"\"\n",
    "        Args:\n",
    "            csv_file (string): Path to the csv file with annotations.\n",
    "            root_dir (string): Directory with all the images.\n",
    "            transform (callable, optional): Optional transform to be applied\n",
    "                on a sample.\n",
    "        \"\"\"\n",
    "        \n",
    "        file = pd.read_csv(csv_file)\n",
    "        \n",
    "        \n",
    "        a=['Pass/Fail']\n",
    "        \n",
    "        self.label = np.array(file[a].values=='Fail')*(-1.)+1\n",
    "        \n",
    "        a = []\n",
    "        \n",
    "        for i in list(file_A.columns):\n",
    "            if i != 'Pass/Fail':\n",
    "                a.append(i)\n",
    "                \n",
    "        data = np.array(file[a].values)       \n",
    "        for i in range(16):\n",
    "            data[:,i]=(data[:,i] - data[:,i].mean())/(data[:,i].std())\n",
    "                \n",
    "        self.data = data\n",
    "         \n",
    "        #self.train_set = TensorDataset()\n",
    "        self.transform = transform\n",
    "\n",
    "    def __len__(self):\n",
    "        return len(self.data)\n",
    "\n",
    "    def __getitem__(self, idx):\n",
    "\n",
    "        data = self.data[idx]\n",
    "        label = self.label[idx]\n",
    "        sample = { 'data': data,'label': label}\n",
    "\n",
    "        if self.transform:\n",
    "            sample = self.transform(sample)\n",
    "\n",
    "        return sample\n",
    "    \n",
    "class ToTensor(object):\n",
    "    \"\"\"Convert ndarrays in sample to Tensors.\"\"\"\n",
    "\n",
    "    def __call__(self, sample):\n",
    "        \n",
    "        data, label  = sample['data'],sample['label']\n",
    "        \n",
    "        \n",
    "        return {'data': torch.from_numpy(data).float(),\n",
    "                'label': torch.from_numpy(label).float()}"
   ]
  },
  {
   "cell_type": "code",
   "execution_count": 4,
   "metadata": {},
   "outputs": [],
   "source": [
    "class SimpleConvNet(nn.Module):\n",
    "    def __init__(self):\n",
    "        super(type(self), self).__init__()\n",
    "        \n",
    "        self.layer1 = nn.Linear(16, 64)\n",
    "        self.layer2 = nn.Linear(64, 256)\n",
    "        self.layer3 = nn.Linear(256, 256)\n",
    "        self.layer4 = nn.Linear(256, 1)\n",
    "        \n",
    "        \n",
    "    def forward(self, x):\n",
    "        x = F.relu(self.layer1(x))\n",
    "        x = F.relu(self.layer2(x))\n",
    "        x = F.relu(self.layer3(x))\n",
    "        out = self.layer4(x)\n",
    "        return out"
   ]
  },
  {
   "cell_type": "code",
   "execution_count": 8,
   "metadata": {},
   "outputs": [],
   "source": [
    "file_dataset = csvDataset(csv_file='circuit-design/opAmp_280nm_GF55_Mod_30P.csv',transform= ToTensor())"
   ]
  },
  {
   "cell_type": "code",
   "execution_count": 9,
   "metadata": {},
   "outputs": [
    {
     "data": {
      "text/plain": [
       "array([[-1.        , -1.22474487, -1.        , ...,  1.41675504,\n",
       "         0.        , 30.93171296],\n",
       "       [-1.        , -1.22474487, -1.        , ...,  1.04780248,\n",
       "         0.        ,         nan],\n",
       "       [-1.        , -1.22474487, -1.        , ...,  1.1953835 ,\n",
       "         0.        ,         nan],\n",
       "       ...,\n",
       "       [ 1.        ,  1.22474487,  1.        , ..., -0.77166073,\n",
       "         0.        ,         nan],\n",
       "       [ 1.        ,  1.22474487,  1.        , ..., -0.74952358,\n",
       "         0.        ,         nan],\n",
       "       [ 1.        ,  1.22474487,  1.        , ..., -0.78905421,\n",
       "         0.        ,         nan]])"
      ]
     },
     "execution_count": 9,
     "metadata": {},
     "output_type": "execute_result"
    }
   ],
   "source": [
    "file = pd.read_csv('circuit-design/opAmp_280nm_GF55_Mod_30P.csv')\n",
    "        \n",
    "        \n",
    "a=['Pass/Fail']\n",
    "        \n",
    "label = np.array(file[a].values=='Fail')*(-1.)+1\n",
    "        \n",
    "a = []\n",
    "        \n",
    "for i in list(file.columns):\n",
    "    if i != 'Pass/Fail':\n",
    "        a.append(i)\n",
    "                \n",
    "data = np.array(file[a].values)   \n",
    "\n",
    "for i in range(16):\n",
    "    data[:,i]=(data[:,i] - data[:,i].mean())/(data[:,i].std())\n",
    "data"
   ]
  },
  {
   "cell_type": "code",
   "execution_count": 10,
   "metadata": {},
   "outputs": [],
   "source": [
    "file_A = pd.read_csv('circuit-design/opAmp_280nm_GF55.csv')"
   ]
  },
  {
   "cell_type": "code",
   "execution_count": 11,
   "metadata": {},
   "outputs": [
    {
     "data": {
      "text/plain": [
       "Index(['VDD', 'Ib', 'Lg1', 'Lg2', 'Lrf', 'Wcf', 'Wg1', 'Wg2', 'temperature',\n",
       "       'Pass/Fail', 'ACM_G', 'SR', 'CMRR', 'NOISE', 'PSRR', 'PhaseMargin_PM',\n",
       "       'BandWidth', 'Pass/Fail.1', 'Percentage'],\n",
       "      dtype='object')"
      ]
     },
     "execution_count": 11,
     "metadata": {},
     "output_type": "execute_result"
    }
   ],
   "source": [
    "file.columns"
   ]
  },
  {
   "cell_type": "code",
   "execution_count": 12,
   "metadata": {},
   "outputs": [
    {
     "data": {
      "text/plain": [
       "Index(['VDD', 'Ib', 'Lg1', 'Lg2', 'Lrf', 'Wcf', 'Wg1', 'Wg2', 'temperature',\n",
       "       'Pass/Fail', 'ACM_G', 'SR', 'CMRR', 'NOISE', 'PSRR', 'PhaseMargin_PM',\n",
       "       'BandWidth'],\n",
       "      dtype='object')"
      ]
     },
     "execution_count": 12,
     "metadata": {},
     "output_type": "execute_result"
    }
   ],
   "source": [
    "file_A.columns"
   ]
  },
  {
   "cell_type": "code",
   "execution_count": 13,
   "metadata": {},
   "outputs": [],
   "source": [
    "#dataset_loader = torch.utils.data.DataLoader(file_dataset,batch_size=43, shuffle=True)\n",
    "dataset_loader = torch.utils.data.DataLoader(file_dataset,\n",
    "                                             batch_size=1, shuffle=True)"
   ]
  },
  {
   "cell_type": "code",
   "execution_count": 14,
   "metadata": {},
   "outputs": [],
   "source": [
    "def train_model_bb(model, dataloaders, criterion, optimizer, num_epochs=25):\n",
    "    \"\"\"\n",
    "    Performs Training and Validation on test set on the given model using the specified optimizer\n",
    "    :param model: (nn.Module) Model to be trained\n",
    "    :param dataloaders: (list) train and test dataloaders\n",
    "    :param criterion: Loss Function\n",
    "    :param optimizer: Optimizer to be used for training\n",
    "    :param num_epochs: Number of epochs to train the model\n",
    "    :return: trained model, test and train metric history\n",
    "    \"\"\"\n",
    "    train_loss_history = []\n",
    "    train_accuracy_history = []\n",
    "    test_accuracy_history = []\n",
    "    test_loss_history = []\n",
    "    trainloader, testloader = dataloaders\n",
    "\n",
    "    for epoch in range(num_epochs):\n",
    "        model.train(True)\n",
    "        print('Epoch[%d]:' % epoch)\n",
    "        running_train_loss = 0.\n",
    "        a=0\n",
    "        for i in (trainloader):\n",
    "            a+=1\n",
    "            inputs = i['data']\n",
    "            labels = i['label']\n",
    "            if use_cuda:\n",
    "                inputs, labels = inputs.cuda(), labels.cuda()\n",
    "            if isinstance(optimizer, VOGN):\n",
    "                def closure():\n",
    "                    optimizer.zero_grad()\n",
    "                    logits = model.forward(inputs)\n",
    "                    loss = criterion(logits, labels)\n",
    "                    return loss\n",
    "            else:\n",
    "                def closure():\n",
    "                    optimizer.zero_grad()\n",
    "                    logits = model.forward(inputs)\n",
    "                    loss = criterion(logits, labels)\n",
    "                    loss.backward()\n",
    "                    return loss\n",
    "            loss = optimizer.step(closure)\n",
    "            running_train_loss += loss.detach().item()\n",
    "\n",
    "            # Print Training Progress\n",
    "            if a%500 == 1:\n",
    "                train_accuracy = accuracy_bb(model, trainloader)\n",
    "                print('Iteration[%d]: Train Loss: %f   Train Accuracy: %f ' % (a+1, running_train_loss/a, train_accuracy))\n",
    "\n",
    "        train_accuracy, train_loss = accuracy_bb(model, trainloader, criterion)\n",
    "        train_accuracy_history.append(train_accuracy)\n",
    "        train_loss_history.append(train_loss)\n",
    "        print('## Epoch[%d], Train Loss: %f   &   Train Accuracy: %f' % (epoch, train_loss, train_accuracy))\n",
    "    return model, train_loss_history, train_accuracy_history"
   ]
  },
  {
   "cell_type": "code",
   "execution_count": 15,
   "metadata": {},
   "outputs": [],
   "source": [
    "def accuracy_bb(model, dataloader, criterion=None):\n",
    "    \"\"\" Computes the model's classification accuracy on the train dataset\n",
    "        Computes classification accuracy and loss(optional) on the test dataset\n",
    "        The model should return logits\n",
    "    \"\"\"\n",
    "    model.eval()\n",
    "    with torch.no_grad():\n",
    "        correct = 0.\n",
    "        running_loss = 0.\n",
    "        for i in (dataloader):\n",
    "            inputs = i['data']\n",
    "            labels = i['label']\n",
    "            if use_cuda:\n",
    "                inputs, labels = inputs.cuda(), labels.cuda()\n",
    "            outputs = model(inputs)\n",
    "            if criterion is not None:\n",
    "                loss = criterion(outputs, labels)\n",
    "                running_loss += loss.item()\n",
    "            pred = (outputs>0).float()\n",
    "            correct += (pred.view(-1,1) == labels).sum().item()\n",
    "        accuracy = correct / len(dataloader.dataset)\n",
    "        if criterion is not None:\n",
    "            running_loss = running_loss / len(dataloader)\n",
    "            return accuracy, loss\n",
    "    return accuracy"
   ]
  },
  {
   "cell_type": "code",
   "execution_count": 16,
   "metadata": {},
   "outputs": [],
   "source": [
    "model = SimpleConvNet()\n",
    "if use_cuda:\n",
    "    model = model.float().cuda()\n",
    "criterion = F.binary_cross_entropy_with_logits\n",
    "optimizer = VOGN(model, train_set_size=6912, prec_init=1e2, num_samples=4)\n",
    "optimizer_bb = optim.Adam(model.parameters())"
   ]
  },
  {
   "cell_type": "code",
   "execution_count": 59,
   "metadata": {},
   "outputs": [
    {
     "name": "stdout",
     "output_type": "stream",
     "text": [
      "Epoch[0]:\n",
      "Iteration[2]: Train Loss: 0.698586   Train Accuracy: 0.680122 \n",
      "Iteration[502]: Train Loss: 0.428873   Train Accuracy: 0.857350 \n",
      "Iteration[1002]: Train Loss: 0.382852   Train Accuracy: 0.888744 \n",
      "Iteration[1502]: Train Loss: 0.347987   Train Accuracy: 0.893519 \n",
      "Iteration[2002]: Train Loss: 0.316407   Train Accuracy: 0.918547 \n",
      "Iteration[2502]: Train Loss: 0.287932   Train Accuracy: 0.919994 \n",
      "Iteration[3002]: Train Loss: 0.271743   Train Accuracy: 0.928241 \n",
      "Iteration[3502]: Train Loss: 0.264420   Train Accuracy: 0.937066 \n",
      "Iteration[4002]: Train Loss: 0.249510   Train Accuracy: 0.917824 \n",
      "Iteration[4502]: Train Loss: 0.240025   Train Accuracy: 0.953559 \n",
      "Iteration[5002]: Train Loss: 0.232073   Train Accuracy: 0.956453 \n",
      "Iteration[5502]: Train Loss: 0.223266   Train Accuracy: 0.949797 \n",
      "Iteration[6002]: Train Loss: 0.214820   Train Accuracy: 0.955729 \n",
      "Iteration[6502]: Train Loss: 0.208537   Train Accuracy: 0.947627 \n",
      "## Epoch[0], Train Loss: 0.166809   &   Train Accuracy: 0.927083\n",
      "Epoch[1]:\n",
      "Iteration[2]: Train Loss: 0.000000   Train Accuracy: 0.926505 \n",
      "Iteration[502]: Train Loss: 0.094063   Train Accuracy: 0.958333 \n",
      "Iteration[1002]: Train Loss: 0.091229   Train Accuracy: 0.952546 \n",
      "Iteration[1502]: Train Loss: 0.099400   Train Accuracy: 0.963252 \n",
      "Iteration[2002]: Train Loss: 0.106065   Train Accuracy: 0.962963 \n",
      "Iteration[2502]: Train Loss: 0.112247   Train Accuracy: 0.965712 \n",
      "Iteration[3002]: Train Loss: 0.109551   Train Accuracy: 0.971354 \n",
      "Iteration[3502]: Train Loss: 0.111792   Train Accuracy: 0.973090 \n",
      "Iteration[4002]: Train Loss: 0.107559   Train Accuracy: 0.962963 \n",
      "Iteration[4502]: Train Loss: 0.105468   Train Accuracy: 0.975839 \n",
      "Iteration[5002]: Train Loss: 0.100016   Train Accuracy: 0.959780 \n",
      "Iteration[5502]: Train Loss: 0.099228   Train Accuracy: 0.968461 \n",
      "Iteration[6002]: Train Loss: 0.098003   Train Accuracy: 0.967593 \n",
      "Iteration[6502]: Train Loss: 0.098080   Train Accuracy: 0.978443 \n",
      "## Epoch[1], Train Loss: 0.065173   &   Train Accuracy: 0.974392\n",
      "Epoch[2]:\n",
      "Iteration[2]: Train Loss: 0.000070   Train Accuracy: 0.974103 \n",
      "Iteration[502]: Train Loss: 0.076085   Train Accuracy: 0.963686 \n",
      "Iteration[1002]: Train Loss: 0.088673   Train Accuracy: 0.974826 \n",
      "Iteration[1502]: Train Loss: 0.079411   Train Accuracy: 0.973958 \n",
      "Iteration[2002]: Train Loss: 0.076018   Train Accuracy: 0.967159 \n",
      "Iteration[2502]: Train Loss: 0.074913   Train Accuracy: 0.978009 \n",
      "Iteration[3002]: Train Loss: 0.075538   Train Accuracy: 0.964120 \n",
      "Iteration[3502]: Train Loss: 0.074480   Train Accuracy: 0.979167 \n",
      "Iteration[4002]: Train Loss: 0.073242   Train Accuracy: 0.971644 \n",
      "Iteration[4502]: Train Loss: 0.071953   Train Accuracy: 0.960648 \n",
      "Iteration[5002]: Train Loss: 0.078345   Train Accuracy: 0.962384 \n",
      "Iteration[5502]: Train Loss: 0.078454   Train Accuracy: 0.981047 \n",
      "Iteration[6002]: Train Loss: 0.078129   Train Accuracy: 0.971209 \n",
      "Iteration[6502]: Train Loss: 0.077197   Train Accuracy: 0.969184 \n",
      "## Epoch[2], Train Loss: 0.095698   &   Train Accuracy: 0.963252\n",
      "Epoch[3]:\n",
      "Iteration[2]: Train Loss: 0.000000   Train Accuracy: 0.963252 \n",
      "Iteration[502]: Train Loss: 0.041260   Train Accuracy: 0.986111 \n",
      "Iteration[1002]: Train Loss: 0.052752   Train Accuracy: 0.976418 \n",
      "Iteration[1502]: Train Loss: 0.058034   Train Accuracy: 0.972367 \n",
      "Iteration[2002]: Train Loss: 0.064949   Train Accuracy: 0.980903 \n",
      "Iteration[2502]: Train Loss: 0.065650   Train Accuracy: 0.989005 \n",
      "Iteration[3002]: Train Loss: 0.061288   Train Accuracy: 0.966001 \n",
      "Iteration[3502]: Train Loss: 0.065795   Train Accuracy: 0.983218 \n",
      "Iteration[4002]: Train Loss: 0.064184   Train Accuracy: 0.984086 \n",
      "Iteration[4502]: Train Loss: 0.065323   Train Accuracy: 0.981626 \n",
      "Iteration[5002]: Train Loss: 0.065544   Train Accuracy: 0.981771 \n",
      "Iteration[5502]: Train Loss: 0.063139   Train Accuracy: 0.984375 \n",
      "Iteration[6002]: Train Loss: 0.064610   Train Accuracy: 0.958767 \n",
      "Iteration[6502]: Train Loss: 0.067297   Train Accuracy: 0.991319 \n",
      "## Epoch[3], Train Loss: 0.031687   &   Train Accuracy: 0.987413\n",
      "Epoch[4]:\n",
      "Iteration[2]: Train Loss: 0.000003   Train Accuracy: 0.986834 \n",
      "Iteration[502]: Train Loss: 0.066469   Train Accuracy: 0.983507 \n",
      "Iteration[1002]: Train Loss: 0.054021   Train Accuracy: 0.984086 \n",
      "Iteration[1502]: Train Loss: 0.056256   Train Accuracy: 0.980469 \n",
      "Iteration[2002]: Train Loss: 0.056477   Train Accuracy: 0.985966 \n",
      "Iteration[2502]: Train Loss: 0.057565   Train Accuracy: 0.985966 \n",
      "Iteration[3002]: Train Loss: 0.056814   Train Accuracy: 0.984954 \n",
      "Iteration[3502]: Train Loss: 0.058901   Train Accuracy: 0.984664 \n",
      "Iteration[4002]: Train Loss: 0.055804   Train Accuracy: 0.976707 \n",
      "Iteration[4502]: Train Loss: 0.055882   Train Accuracy: 0.983941 \n",
      "Iteration[5002]: Train Loss: 0.056321   Train Accuracy: 0.981047 \n",
      "Iteration[5502]: Train Loss: 0.055190   Train Accuracy: 0.982350 \n",
      "Iteration[6002]: Train Loss: 0.055355   Train Accuracy: 0.966580 \n",
      "Iteration[6502]: Train Loss: 0.056047   Train Accuracy: 0.988571 \n",
      "## Epoch[4], Train Loss: 0.053631   &   Train Accuracy: 0.980613\n",
      "Epoch[5]:\n",
      "Iteration[2]: Train Loss: 0.000062   Train Accuracy: 0.980613 \n",
      "Iteration[502]: Train Loss: 0.025685   Train Accuracy: 0.977286 \n",
      "Iteration[1002]: Train Loss: 0.043796   Train Accuracy: 0.986400 \n",
      "Iteration[1502]: Train Loss: 0.042580   Train Accuracy: 0.986690 \n",
      "Iteration[2002]: Train Loss: 0.041648   Train Accuracy: 0.989005 \n",
      "Iteration[2502]: Train Loss: 0.044476   Train Accuracy: 0.973235 \n",
      "Iteration[3002]: Train Loss: 0.045688   Train Accuracy: 0.985532 \n",
      "Iteration[3502]: Train Loss: 0.049377   Train Accuracy: 0.983941 \n",
      "Iteration[4002]: Train Loss: 0.048858   Train Accuracy: 0.975116 \n",
      "Iteration[4502]: Train Loss: 0.051369   Train Accuracy: 0.981481 \n",
      "Iteration[5002]: Train Loss: 0.051154   Train Accuracy: 0.988137 \n",
      "Iteration[5502]: Train Loss: 0.051210   Train Accuracy: 0.987847 \n",
      "Iteration[6002]: Train Loss: 0.050538   Train Accuracy: 0.987558 \n",
      "Iteration[6502]: Train Loss: 0.050592   Train Accuracy: 0.985822 \n",
      "## Epoch[5], Train Loss: 0.052446   &   Train Accuracy: 0.980758\n",
      "Epoch[6]:\n",
      "Iteration[2]: Train Loss: 0.000000   Train Accuracy: 0.980903 \n",
      "Iteration[502]: Train Loss: 0.028327   Train Accuracy: 0.979311 \n",
      "Iteration[1002]: Train Loss: 0.039920   Train Accuracy: 0.980035 \n",
      "Iteration[1502]: Train Loss: 0.046096   Train Accuracy: 0.984230 \n",
      "Iteration[2002]: Train Loss: 0.044140   Train Accuracy: 0.980324 \n",
      "Iteration[2502]: Train Loss: 0.042518   Train Accuracy: 0.983362 \n",
      "Iteration[3002]: Train Loss: 0.041304   Train Accuracy: 0.986979 \n",
      "Iteration[3502]: Train Loss: 0.040393   Train Accuracy: 0.988715 \n",
      "Iteration[4002]: Train Loss: 0.038156   Train Accuracy: 0.987413 \n",
      "Iteration[4502]: Train Loss: 0.035860   Train Accuracy: 0.989005 \n",
      "Iteration[5002]: Train Loss: 0.041220   Train Accuracy: 0.981771 \n",
      "Iteration[5502]: Train Loss: 0.041618   Train Accuracy: 0.985966 \n",
      "Iteration[6002]: Train Loss: 0.041217   Train Accuracy: 0.988715 \n",
      "Iteration[6502]: Train Loss: 0.043571   Train Accuracy: 0.981481 \n",
      "## Epoch[6], Train Loss: 0.043475   &   Train Accuracy: 0.983507\n",
      "Epoch[7]:\n",
      "Iteration[2]: Train Loss: 0.000428   Train Accuracy: 0.983507 \n",
      "Iteration[502]: Train Loss: 0.053606   Train Accuracy: 0.985966 \n",
      "Iteration[1002]: Train Loss: 0.052362   Train Accuracy: 0.986690 \n",
      "Iteration[1502]: Train Loss: 0.047055   Train Accuracy: 0.984086 \n",
      "Iteration[2002]: Train Loss: 0.043700   Train Accuracy: 0.983941 \n",
      "Iteration[2502]: Train Loss: 0.042238   Train Accuracy: 0.985243 \n",
      "Iteration[3002]: Train Loss: 0.044731   Train Accuracy: 0.985532 \n",
      "Iteration[3502]: Train Loss: 0.042107   Train Accuracy: 0.987413 \n",
      "Iteration[4002]: Train Loss: 0.043405   Train Accuracy: 0.987992 \n",
      "Iteration[4502]: Train Loss: 0.042379   Train Accuracy: 0.984086 \n",
      "Iteration[5002]: Train Loss: 0.045510   Train Accuracy: 0.982060 \n",
      "Iteration[5502]: Train Loss: 0.046484   Train Accuracy: 0.990885 \n",
      "Iteration[6002]: Train Loss: 0.045697   Train Accuracy: 0.989583 \n",
      "Iteration[6502]: Train Loss: 0.044200   Train Accuracy: 0.973524 \n",
      "## Epoch[7], Train Loss: 0.024083   &   Train Accuracy: 0.992766\n",
      "Epoch[8]:\n",
      "Iteration[2]: Train Loss: 0.000000   Train Accuracy: 0.992911 \n",
      "Iteration[502]: Train Loss: 0.026353   Train Accuracy: 0.989873 \n",
      "Iteration[1002]: Train Loss: 0.027229   Train Accuracy: 0.993634 \n",
      "Iteration[1502]: Train Loss: 0.028857   Train Accuracy: 0.987992 \n"
     ]
    },
    {
     "name": "stdout",
     "output_type": "stream",
     "text": [
      "Iteration[2002]: Train Loss: 0.028485   Train Accuracy: 0.982928 \n",
      "Iteration[2502]: Train Loss: 0.030961   Train Accuracy: 0.984809 \n",
      "Iteration[3002]: Train Loss: 0.030550   Train Accuracy: 0.959925 \n",
      "Iteration[3502]: Train Loss: 0.033177   Train Accuracy: 0.988281 \n",
      "Iteration[4002]: Train Loss: 0.037121   Train Accuracy: 0.988715 \n",
      "Iteration[4502]: Train Loss: 0.036873   Train Accuracy: 0.981047 \n",
      "Iteration[5002]: Train Loss: 0.038819   Train Accuracy: 0.990307 \n",
      "Iteration[5502]: Train Loss: 0.039487   Train Accuracy: 0.989294 \n",
      "Iteration[6002]: Train Loss: 0.037800   Train Accuracy: 0.984086 \n",
      "Iteration[6502]: Train Loss: 0.037309   Train Accuracy: 0.992188 \n",
      "## Epoch[8], Train Loss: 0.029607   &   Train Accuracy: 0.987703\n",
      "Epoch[9]:\n",
      "Iteration[2]: Train Loss: 0.000000   Train Accuracy: 0.987703 \n",
      "Iteration[502]: Train Loss: 0.037933   Train Accuracy: 0.982784 \n",
      "Iteration[1002]: Train Loss: 0.034388   Train Accuracy: 0.988281 \n",
      "Iteration[1502]: Train Loss: 0.028080   Train Accuracy: 0.985677 \n",
      "Iteration[2002]: Train Loss: 0.032159   Train Accuracy: 0.981047 \n",
      "Iteration[2502]: Train Loss: 0.028619   Train Accuracy: 0.986690 \n",
      "Iteration[3002]: Train Loss: 0.033164   Train Accuracy: 0.987992 \n",
      "Iteration[3502]: Train Loss: 0.032465   Train Accuracy: 0.992477 \n",
      "Iteration[4002]: Train Loss: 0.030302   Train Accuracy: 0.990596 \n",
      "Iteration[4502]: Train Loss: 0.031010   Train Accuracy: 0.986545 \n",
      "Iteration[5002]: Train Loss: 0.034511   Train Accuracy: 0.990885 \n",
      "Iteration[5502]: Train Loss: 0.034558   Train Accuracy: 0.986111 \n",
      "Iteration[6002]: Train Loss: 0.034408   Train Accuracy: 0.989149 \n",
      "Iteration[6502]: Train Loss: 0.035551   Train Accuracy: 0.990017 \n",
      "## Epoch[9], Train Loss: 0.131935   &   Train Accuracy: 0.977431\n"
     ]
    }
   ],
   "source": [
    "model, train_loss, train_accuracy = train_model_bb(model, [dataset_loader, dataset_loader], criterion,\n",
    "optimizer_bb, num_epochs=10)"
   ]
  },
  {
   "cell_type": "code",
   "execution_count": 19,
   "metadata": {},
   "outputs": [],
   "source": [
    "model = SimpleConvNet()\n",
    "if use_cuda:\n",
    "    model = model.float().cuda()\n",
    "criterion = F.binary_cross_entropy_with_logits\n",
    "optimizer = VOGN(model, train_set_size=6912, prec_init=1e2, num_samples=10)\n",
    "optimizer_bb = optim.Adam(model.parameters())"
   ]
  },
  {
   "cell_type": "code",
   "execution_count": 22,
   "metadata": {},
   "outputs": [
    {
     "name": "stdout",
     "output_type": "stream",
     "text": [
      "Epoch[0]:\n",
      "Iteration[2]: Train Loss: 0.467743   Train Accuracy: 0.690683 \n",
      "Iteration[502]: Train Loss: 0.508369   Train Accuracy: 0.746094 \n",
      "Iteration[1002]: Train Loss: 0.502671   Train Accuracy: 0.503038 \n",
      "Iteration[1502]: Train Loss: 0.543362   Train Accuracy: 0.311777 \n",
      "Iteration[2002]: Train Loss: 0.597592   Train Accuracy: 0.549624 \n",
      "Iteration[2502]: Train Loss: 0.654485   Train Accuracy: 0.646701 \n",
      "Iteration[3002]: Train Loss: 1.314352   Train Accuracy: 0.774450 \n",
      "Iteration[3502]: Train Loss: 1.239271   Train Accuracy: 0.603154 \n",
      "Iteration[4002]: Train Loss: 1.288505   Train Accuracy: 0.745660 \n",
      "Iteration[4502]: Train Loss: 1.281556   Train Accuracy: 0.671007 \n",
      "Iteration[5002]: Train Loss: 1.338921   Train Accuracy: 0.631800 \n",
      "Iteration[5502]: Train Loss: 1.318080   Train Accuracy: 0.690683 \n",
      "Iteration[6002]: Train Loss: 1.261539   Train Accuracy: 0.690683 \n",
      "Iteration[6502]: Train Loss: 1.243715   Train Accuracy: 0.789207 \n",
      "## Epoch[0], Train Loss: 1.201649   &   Train Accuracy: 0.728588\n",
      "Epoch[1]:\n",
      "Iteration[2]: Train Loss: 0.000000   Train Accuracy: 0.728588 \n",
      "Iteration[502]: Train Loss: 120.614506   Train Accuracy: 0.729311 \n",
      "Iteration[1002]: Train Loss: 61.756207   Train Accuracy: 0.757957 \n",
      "Iteration[1502]: Train Loss: 41.463494   Train Accuracy: 0.808015 \n",
      "Iteration[2002]: Train Loss: 31.283056   Train Accuracy: 0.757378 \n",
      "Iteration[2502]: Train Loss: 25.149478   Train Accuracy: 0.778791 \n",
      "Iteration[3002]: Train Loss: 22.323118   Train Accuracy: 0.772569 \n",
      "Iteration[3502]: Train Loss: 19.194210   Train Accuracy: 0.778501 \n",
      "Iteration[4002]: Train Loss: 16.869194   Train Accuracy: 0.810475 \n",
      "Iteration[4502]: Train Loss: 15.064039   Train Accuracy: 0.795428 \n",
      "Iteration[5002]: Train Loss: 13.637920   Train Accuracy: 0.810330 \n",
      "Iteration[5502]: Train Loss: 12.460907   Train Accuracy: 0.856626 \n",
      "Iteration[6002]: Train Loss: 12.084505   Train Accuracy: 0.837095 \n",
      "Iteration[6502]: Train Loss: 11.249967   Train Accuracy: 0.762008 \n",
      "## Epoch[1], Train Loss: 0.000000   &   Train Accuracy: 0.688947\n",
      "Epoch[2]:\n",
      "Iteration[2]: Train Loss: 0.000000   Train Accuracy: 0.688947 \n",
      "Iteration[502]: Train Loss: 1.028926   Train Accuracy: 0.827257 \n",
      "Iteration[1002]: Train Loss: 0.938140   Train Accuracy: 0.740017 \n",
      "Iteration[1502]: Train Loss: 0.942225   Train Accuracy: 0.878762 \n",
      "Iteration[2002]: Train Loss: 0.931204   Train Accuracy: 0.880353 \n",
      "Iteration[2502]: Train Loss: 0.941763   Train Accuracy: 0.856192 \n",
      "Iteration[3002]: Train Loss: 0.852668   Train Accuracy: 0.881366 \n",
      "Iteration[3502]: Train Loss: 0.828992   Train Accuracy: 0.690683 \n",
      "Iteration[4002]: Train Loss: 0.883583   Train Accuracy: 0.858073 \n",
      "Iteration[4502]: Train Loss: 0.903347   Train Accuracy: 0.734230 \n",
      "Iteration[5002]: Train Loss: 0.922745   Train Accuracy: 0.887442 \n",
      "Iteration[5502]: Train Loss: 0.876165   Train Accuracy: 0.893519 \n",
      "Iteration[6002]: Train Loss: 0.844856   Train Accuracy: 0.890046 \n",
      "Iteration[6502]: Train Loss: 0.841963   Train Accuracy: 0.873119 \n",
      "## Epoch[2], Train Loss: 1.648410   &   Train Accuracy: 0.896123\n",
      "351.3036587238312\n"
     ]
    }
   ],
   "source": [
    "start = time.time()\n",
    "\n",
    "model, train_loss, train_accuracy = train_model_bb(model, [dataset_loader, dataset_loader], criterion,\n",
    "optimizer, num_epochs=3)\n",
    "\n",
    "end = time.time()\n",
    "print(end - start)"
   ]
  },
  {
   "cell_type": "markdown",
   "metadata": {},
   "source": [
    "Attention ne pas reentrainer !!!"
   ]
  },
  {
   "cell_type": "markdown",
   "metadata": {},
   "source": [
    "_________________________________________"
   ]
  },
  {
   "cell_type": "code",
   "execution_count": 24,
   "metadata": {},
   "outputs": [],
   "source": [
    "inference_loader = torch.utils.data.DataLoader(file_dataset,\n",
    "                                             batch_size=6912, shuffle=False)"
   ]
  },
  {
   "cell_type": "code",
   "execution_count": 25,
   "metadata": {},
   "outputs": [],
   "source": [
    "def inference_bb(model, data, optimizer,mc_samples):\n",
    "    a=0\n",
    "    for i in (inference_loader):\n",
    "        a+=1\n",
    "        if a == 1:\n",
    "            inputs = i['data']\n",
    "            labels = i['label']\n",
    "            \n",
    "    if use_cuda:\n",
    "        inputs, labels = inputs.cuda(), labels.cuda()\n",
    "                \n",
    "    return optimizer.get_mc_predictions(model.forward,inputs,mc_samples=mc_samples)[0]>0,labels"
   ]
  },
  {
   "cell_type": "code",
   "execution_count": 26,
   "metadata": {},
   "outputs": [],
   "source": [
    "a,b=inference_bb(model, inference_loader,optimizer,1)"
   ]
  },
  {
   "cell_type": "code",
   "execution_count": 27,
   "metadata": {},
   "outputs": [],
   "source": [
    "import time"
   ]
  },
  {
   "cell_type": "code",
   "execution_count": 28,
   "metadata": {},
   "outputs": [
    {
     "name": "stdout",
     "output_type": "stream",
     "text": [
      "97.7634346485138\n"
     ]
    }
   ],
   "source": [
    "predict = torch.zeros(1000,6912).cuda()\n",
    "labz = torch.zeros(1000,6912).cuda()\n",
    "start = time.time()\n",
    "for i in range(1000):\n",
    "    predictions,lbl = inference_bb(model, inference_loader,optimizer,1)\n",
    "    predict[i] = predictions.view(6912)\n",
    "    labz[i] = lbl.view(6912)\n",
    "end = time.time()\n",
    "print(end - start)"
   ]
  },
  {
   "cell_type": "code",
   "execution_count": 29,
   "metadata": {},
   "outputs": [],
   "source": [
    "hist=torch.zeros(6912)\n",
    "histl=torch.zeros(6912)\n",
    "for i in range(6912):\n",
    "    hist[i] = torch.mean(predict[:,i])\n",
    "    histl[i] = torch.mean(labz[:,i])"
   ]
  },
  {
   "cell_type": "code",
   "execution_count": 30,
   "metadata": {},
   "outputs": [
    {
     "ename": "RuntimeError",
     "evalue": "Expected object of scalar type Byte but got scalar type Float for argument #2 'other'",
     "output_type": "error",
     "traceback": [
      "\u001b[0;31m---------------------------------------------------------------------------\u001b[0m",
      "\u001b[0;31mRuntimeError\u001b[0m                              Traceback (most recent call last)",
      "\u001b[0;32m<ipython-input-30-041730ab83b3>\u001b[0m in \u001b[0;36m<module>\u001b[0;34m\u001b[0m\n\u001b[0;32m----> 1\u001b[0;31m \u001b[0mnp\u001b[0m\u001b[0;34m.\u001b[0m\u001b[0msum\u001b[0m\u001b[0;34m(\u001b[0m\u001b[0;34m(\u001b[0m\u001b[0mhist\u001b[0m\u001b[0;34m>\u001b[0m\u001b[0;36m0.5\u001b[0m\u001b[0;34m)\u001b[0m\u001b[0;34m*\u001b[0m\u001b[0;36m1.\u001b[0m\u001b[0;34m==\u001b[0m\u001b[0mhistl\u001b[0m\u001b[0;34m)\u001b[0m\u001b[0;34m\u001b[0m\u001b[0;34m\u001b[0m\u001b[0m\n\u001b[0m",
      "\u001b[0;31mRuntimeError\u001b[0m: Expected object of scalar type Byte but got scalar type Float for argument #2 'other'"
     ]
    }
   ],
   "source": [
    "np.sum((hist>0.5)*1.==histl)"
   ]
  },
  {
   "cell_type": "code",
   "execution_count": 106,
   "metadata": {},
   "outputs": [
    {
     "data": {
      "text/plain": [
       "[<matplotlib.lines.Line2D at 0x7febbbea87b8>]"
      ]
     },
     "execution_count": 106,
     "metadata": {},
     "output_type": "execute_result"
    },
    {
     "data": {
      "image/png": "[encoded data removed]",
      "text/plain": [
       "<Figure size 432x288 with 1 Axes>"
      ]
     },
     "metadata": {
      "needs_background": "light"
     },
     "output_type": "display_data"
    }
   ],
   "source": [
    "plt.plot(hist.numpy())"
   ]
  },
  {
   "cell_type": "code",
   "execution_count": 107,
   "metadata": {},
   "outputs": [
    {
     "data": {
      "text/plain": [
       "[<matplotlib.lines.Line2D at 0x7febbbb47400>]"
      ]
     },
     "execution_count": 107,
     "metadata": {},
     "output_type": "execute_result"
    },
    {
     "data": {
      "image/png": "[encoded data removed]",
      "text/plain": [
       "<Figure size 432x288 with 1 Axes>"
      ]
     },
     "metadata": {
      "needs_background": "light"
     },
     "output_type": "display_data"
    }
   ],
   "source": [
    "plt.plot(histl.numpy())"
   ]
  },
  {
   "cell_type": "code",
   "execution_count": 108,
   "metadata": {},
   "outputs": [
    {
     "name": "stdout",
     "output_type": "stream",
     "text": [
      "1 torch.Size([6912, 16]) 0.30931714\n"
     ]
    }
   ],
   "source": [
    "a=0\n",
    "for i in (inference_loader):\n",
    "        a+=1\n",
    "        inputs = i['data']\n",
    "        labels = i['label']\n",
    "        print(a,inputs.shape,np.mean(labels.numpy()))"
   ]
  },
  {
   "cell_type": "code",
   "execution_count": 109,
   "metadata": {},
   "outputs": [
    {
     "data": {
      "text/plain": [
       "(6912, 16)"
      ]
     },
     "execution_count": 109,
     "metadata": {},
     "output_type": "execute_result"
    }
   ],
   "source": [
    "inference_loader.dataset.data.shape"
   ]
  },
  {
   "cell_type": "markdown",
   "metadata": {},
   "source": [
    "____________________"
   ]
  },
  {
   "cell_type": "code",
   "execution_count": 110,
   "metadata": {},
   "outputs": [],
   "source": [
    "def crit(vect,thresh):\n",
    "    a = vect>thresh\n",
    "    b = vect < (1-thresh)\n",
    "\n",
    "    return a*b*1."
   ]
  },
  {
   "cell_type": "code",
   "execution_count": 111,
   "metadata": {},
   "outputs": [
    {
     "data": {
      "text/plain": [
       "198.0"
      ]
     },
     "execution_count": 111,
     "metadata": {},
     "output_type": "execute_result"
    }
   ],
   "source": [
    "np.sum(crit(hist.numpy(),0.20))"
   ]
  },
  {
   "cell_type": "code",
   "execution_count": 116,
   "metadata": {},
   "outputs": [],
   "source": [
    "def better_pred(labz,thresh,vect):\n",
    "\n",
    "    critz = crit(vect,thresh)\n",
    "    preds = vect>0.5\n",
    "    \n",
    "    correct_better = 0.\n",
    "    correct = 0.\n",
    "    correct+= np.sum((labz-preds)==0)\n",
    "    correct_better = np.sum(((labz-preds)==0)*(critz==0))\n",
    "    \n",
    "    return correct/6912,correct_better/(6912-np.sum(critz))\n",
    "    "
   ]
  },
  {
   "cell_type": "code",
   "execution_count": 117,
   "metadata": {},
   "outputs": [
    {
     "data": {
      "text/plain": [
       "(0.9376446759259259, 0.954800546033672)"
      ]
     },
     "execution_count": 117,
     "metadata": {},
     "output_type": "execute_result"
    }
   ],
   "source": [
    "better_pred(histl.numpy(),0.1,hist.numpy())"
   ]
  },
  {
   "cell_type": "code",
   "execution_count": 118,
   "metadata": {},
   "outputs": [],
   "source": [
    "x = np.linspace(0,0.5,601)\n",
    "rez = [better_pred(histl.numpy(),y,hist.numpy()) for y in x]"
   ]
  },
  {
   "cell_type": "code",
   "execution_count": 119,
   "metadata": {},
   "outputs": [
    {
     "data": {
      "text/plain": [
       "[<matplotlib.lines.Line2D at 0x7febc03d9630>,\n",
       " <matplotlib.lines.Line2D at 0x7febc03d97b8>]"
      ]
     },
     "execution_count": 119,
     "metadata": {},
     "output_type": "execute_result"
    },
    {
     "data": {
      "image/png": "[encoded data removed]",
      "text/plain": [
       "<Figure size 432x288 with 1 Axes>"
      ]
     },
     "metadata": {
      "needs_background": "light"
     },
     "output_type": "display_data"
    }
   ],
   "source": [
    "plt.plot(x,rez)"
   ]
  },
  {
   "cell_type": "code",
   "execution_count": null,
   "metadata": {},
   "outputs": [],
   "source": []
  }
 ],
 "metadata": {
  "kernelspec": {
   "display_name": "Python 3",
   "language": "python",
   "name": "python3"
  },
  "language_info": {
   "codemirror_mode": {
    "name": "ipython",
    "version": 3
   },
   "file_extension": ".py",
   "mimetype": "text/x-python",
   "name": "python",
   "nbconvert_exporter": "python",
   "pygments_lexer": "ipython3",
   "version": "3.6.8"
  }
 },
 "nbformat": 4,
 "nbformat_minor": 2
}
