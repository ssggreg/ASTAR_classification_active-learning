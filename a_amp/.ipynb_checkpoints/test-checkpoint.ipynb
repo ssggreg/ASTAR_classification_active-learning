{
 "cells": [
  {
   "cell_type": "code",
   "execution_count": 1,
   "metadata": {},
   "outputs": [],
   "source": [
    "import numpy as np\n",
    "import torch\n",
    "import torch.nn as nn\n",
    "import torch.optim as optim\n",
    "import matplotlib.pyplot as plt\n",
    "import seaborn as sns\n",
    "import pandas as pd\n",
    "from Class_vogn import train_model_cc_fast,csvDataset,ToTensor\n",
    "import torch.nn.functional as F\n",
    "from active_function import *\n",
    "from sklearn.model_selection import train_test_split\n",
    "from vogn import VOGN\n",
    "\n",
    "class EvalNet(nn.Module):\n",
    "\n",
    "    def __init__(self, in_size=9, hidden=64, dropout_rate=None):\n",
    "        super(EvalNet, self).__init__()\n",
    "        self.dropout = dropout_rate\n",
    "        if dropout_rate:\n",
    "            self.dropout = nn.Dropout(dropout_rate)\n",
    "        self.f1 = nn.Linear(in_size, hidden)\n",
    "        self.f2 = nn.Linear(hidden,  hidden)\n",
    "        self.f3 = nn.Linear(hidden,  1)\n",
    "\n",
    "    def forward(self, x):\n",
    "        out = x\n",
    "        out = F.relu(self.f1(out))\n",
    "        if self.dropout:\n",
    "            out = self.dropout(out)\n",
    "        out = F.relu(self.f2(out))\n",
    "        if self.dropout:\n",
    "            out = self.dropout(out)\n",
    "        out = self.f3(out)\n",
    "        return out  \n",
    "    \n",
    "class BaseNet(nn.Module):\n",
    "    def __init__(self,dropout_rate=None):\n",
    "        super(type(self), self).__init__()\n",
    "        self.dropout = dropout_rate\n",
    "        if dropout_rate:\n",
    "            self.dropout = nn.Dropout(dropout_rate)\n",
    "        self.layer1 = nn.Linear(9, 32)\n",
    "        self.layer2 = nn.Linear(32, 32)\n",
    "        self.layer3 = nn.Linear(32, 1)\n",
    "        \n",
    "        \n",
    "    def forward(self, x):\n",
    "        x = F.relu(self.layer1(x))\n",
    "        if self.dropout:\n",
    "            out = self.dropout(out)\n",
    "        x = F.relu(self.layer2(x))\n",
    "        if self.dropout:\n",
    "            out = self.dropout(out)\n",
    "        out = self.layer3(x)\n",
    "        return out"
   ]
  },
  {
   "cell_type": "code",
   "execution_count": 2,
   "metadata": {},
   "outputs": [],
   "source": [
    "Xtrain = np.load('opAmp_280nm_GF55_Mod_30P_lbl/trainx.npy')\n",
    "Ytrain = np.load('opAmp_280nm_GF55_Mod_30P_lbl/trainy.npy')*1.\n",
    "Xtest = np.load('opAmp_280nm_GF55_Mod_30P_lbl/testx.npy')\n",
    "Ytest = np.load('opAmp_280nm_GF55_Mod_30P_lbl/testy.npy')*1.\n",
    "\n",
    "\n",
    "for i in range(9):\n",
    "    Xtrain[:,i]=(Xtrain[:,i] - Xtrain[:,i].mean())/(Xtrain[:,i].std())\n",
    "    Xtest[:,i]=(Xtest[:,i] - Xtest[:,i].mean())/(Xtest[:,i].std())\n",
    "Ytrain = Ytrain.reshape(-1,1)\n",
    "Ytest = Ytest.reshape(-1,1) "
   ]
  },
  {
   "cell_type": "code",
   "execution_count": 3,
   "metadata": {},
   "outputs": [
    {
     "name": "stdout",
     "output_type": "stream",
     "text": [
      "49\n",
      "49\n",
      "49\n",
      "49\n",
      "49\n",
      "49\n",
      "49\n",
      "49\n",
      "49\n",
      "49\n"
     ]
    }
   ],
   "source": [
    "correct = np.zeros(100)\n",
    "for x in range(10):\n",
    "    a = np.random.choice(3420,20+300*x,replace=False)\n",
    "    Xtrainb=Xtrain[a]\n",
    "    Ytrainb=Ytrain[a]\n",
    "    model = BaseNet()\n",
    "    optimizer = VOGN(model, train_set_size=1000,prior_prec=30, prec_init=30, num_samples=4)\n",
    "\n",
    "    use_cuda = torch.cuda.is_available()\n",
    "    inference_dataset = csvDataset(Xtest,Ytest,transform= ToTensor())\n",
    "    inference_loader = torch.utils.data.DataLoader(inference_dataset,batch_size=Xtest.shape[0], shuffle=False)\n",
    "    \n",
    "    file_dataset = csvDataset(Xtrainb,Ytrainb,transform= ToTensor())\n",
    "    final_loader = torch.utils.data.DataLoader(file_dataset,batch_size=1 ,shuffle=False)\n",
    "\n",
    "    if use_cuda:\n",
    "        model = model.float().cuda()\n",
    "\n",
    "    criterion = F.binary_cross_entropy_with_logits\n",
    "    model, train_accuracy,ep= train_model_cc_fast(model, final_loader, criterion, optimizer,Xtrain.shape[0], num_epochs=50)\n",
    "    print(ep)\n",
    "    model.eval()\n",
    "    with torch.no_grad():\n",
    "        for i in inference_loader:\n",
    "            inputs = i['data']\n",
    "            labels = i['label']\n",
    "            inputs, labels = inputs.cuda(), labels.cuda()\n",
    "            out = model.forward(inputs)\n",
    "            pred = (out.cpu().numpy()>0)*1.\n",
    "            labels = (labels.cpu().numpy())*1.\n",
    "\n",
    "    correct[x] =(np.sum(pred==labels)/Xtest.shape[0])\n"
   ]
  },
  {
   "cell_type": "code",
   "execution_count": 4,
   "metadata": {},
   "outputs": [
    {
     "data": {
      "text/plain": [
       "[<matplotlib.lines.Line2D at 0x7fc3758f5240>]"
      ]
     },
     "execution_count": 4,
     "metadata": {},
     "output_type": "execute_result"
    },
    {
     "data": {
      "image/png": "[encoded data removed]",
      "text/plain": [
       "<Figure size 432x288 with 1 Axes>"
      ]
     },
     "metadata": {
      "needs_background": "light"
     },
     "output_type": "display_data"
    }
   ],
   "source": [
    "plt.plot(np.arange(10)/10,correct[:10])"
   ]
  },
  {
   "cell_type": "code",
   "execution_count": 7,
   "metadata": {},
   "outputs": [
    {
     "name": "stdout",
     "output_type": "stream",
     "text": [
      "49\n",
      "49\n",
      "49\n",
      "49\n",
      "49\n",
      "49\n",
      "49\n",
      "49\n",
      "49\n",
      "49\n"
     ]
    }
   ],
   "source": [
    "correct = np.zeros(100)\n",
    "for x in range(10):\n",
    "    a = np.random.choice(3420,50,replace=False)\n",
    "    Xtrainb=Xtrain[a]\n",
    "    Ytrainb=Ytrain[a]\n",
    "    model = BaseNet()\n",
    "    optimizer = VOGN(model, train_set_size=50,prior_prec=30, prec_init=30, num_samples=4,lr=0.00001+x*0.0005)\n",
    "\n",
    "    use_cuda = torch.cuda.is_available()\n",
    "    inference_dataset = csvDataset(Xtest,Ytest,transform= ToTensor())\n",
    "    inference_loader = torch.utils.data.DataLoader(inference_dataset,batch_size=Xtest.shape[0], shuffle=False)\n",
    "    \n",
    "    file_dataset = csvDataset(Xtrainb,Ytrainb,transform= ToTensor())\n",
    "    final_loader = torch.utils.data.DataLoader(file_dataset,batch_size=1 ,shuffle=False)\n",
    "\n",
    "    if use_cuda:\n",
    "        model = model.float().cuda()\n",
    "\n",
    "    criterion = F.binary_cross_entropy_with_logits\n",
    "    model, train_accuracy,ep= train_model_cc_fast(model, final_loader, criterion, optimizer,Xtrain.shape[0], num_epochs=50)\n",
    "    print(ep)\n",
    "    model.eval()\n",
    "    with torch.no_grad():\n",
    "        for i in inference_loader:\n",
    "            inputs = i['data']\n",
    "            labels = i['label']\n",
    "            inputs, labels = inputs.cuda(), labels.cuda()\n",
    "            out = model.forward(inputs)\n",
    "            pred = (out.cpu().numpy()>0)*1.\n",
    "            labels = (labels.cpu().numpy())*1.\n",
    "\n",
    "    correct[x] =(np.sum(pred==labels)/Xtest.shape[0])"
   ]
  },
  {
   "cell_type": "code",
   "execution_count": 8,
   "metadata": {},
   "outputs": [
    {
     "data": {
      "text/plain": [
       "[<matplotlib.lines.Line2D at 0x7fc36c497710>]"
      ]
     },
     "execution_count": 8,
     "metadata": {},
     "output_type": "execute_result"
    },
    {
     "data": {
      "image/png": "[encoded data removed]",
      "text/plain": [
       "<Figure size 432x288 with 1 Axes>"
      ]
     },
     "metadata": {
      "needs_background": "light"
     },
     "output_type": "display_data"
    }
   ],
   "source": [
    "plt.plot(np.arange(10)/10,correct[:10])"
   ]
  },
  {
   "cell_type": "code",
   "execution_count": 9,
   "metadata": {},
   "outputs": [
    {
     "name": "stdout",
     "output_type": "stream",
     "text": [
      "49\n",
      "49\n",
      "49\n",
      "49\n",
      "49\n",
      "49\n",
      "49\n",
      "49\n",
      "49\n",
      "49\n"
     ]
    }
   ],
   "source": [
    "correct = np.zeros(100)\n",
    "for x in range(10):\n",
    "    a = np.random.choice(3420,50,replace=False)\n",
    "    Xtrainb=Xtrain[a]\n",
    "    Ytrainb=Ytrain[a]\n",
    "    model = BaseNet()\n",
    "    optimizer = VOGN(model, train_set_size=50+x*100,prior_prec=30, prec_init=30, num_samples=4)\n",
    "\n",
    "    use_cuda = torch.cuda.is_available()\n",
    "    inference_dataset = csvDataset(Xtest,Ytest,transform= ToTensor())\n",
    "    inference_loader = torch.utils.data.DataLoader(inference_dataset,batch_size=Xtest.shape[0], shuffle=False)\n",
    "    \n",
    "    file_dataset = csvDataset(Xtrainb,Ytrainb,transform= ToTensor())\n",
    "    final_loader = torch.utils.data.DataLoader(file_dataset,batch_size=1 ,shuffle=False)\n",
    "\n",
    "    if use_cuda:\n",
    "        model = model.float().cuda()\n",
    "\n",
    "    criterion = F.binary_cross_entropy_with_logits\n",
    "    model, train_accuracy,ep= train_model_cc_fast(model, final_loader, criterion, optimizer,Xtrain.shape[0], num_epochs=50)\n",
    "    print(ep)\n",
    "    model.eval()\n",
    "    with torch.no_grad():\n",
    "        for i in inference_loader:\n",
    "            inputs = i['data']\n",
    "            labels = i['label']\n",
    "            inputs, labels = inputs.cuda(), labels.cuda()\n",
    "            out = model.forward(inputs)\n",
    "            pred = (out.cpu().numpy()>0)*1.\n",
    "            labels = (labels.cpu().numpy())*1.\n",
    "\n",
    "    correct[x] =(np.sum(pred==labels)/Xtest.shape[0])"
   ]
  },
  {
   "cell_type": "code",
   "execution_count": 10,
   "metadata": {},
   "outputs": [
    {
     "data": {
      "text/plain": [
       "[<matplotlib.lines.Line2D at 0x7fc36c449908>]"
      ]
     },
     "execution_count": 10,
     "metadata": {},
     "output_type": "execute_result"
    },
    {
     "data": {
      "image/png": "[encoded data removed]",
      "text/plain": [
       "<Figure size 432x288 with 1 Axes>"
      ]
     },
     "metadata": {
      "needs_background": "light"
     },
     "output_type": "display_data"
    }
   ],
   "source": [
    "plt.plot(np.arange(10)/10,correct[:10])"
   ]
  },
  {
   "cell_type": "markdown",
   "metadata": {},
   "source": [
    "_________________"
   ]
  },
  {
   "cell_type": "markdown",
   "metadata": {},
   "source": [
    "____________"
   ]
  },
  {
   "cell_type": "code",
   "execution_count": 13,
   "metadata": {},
   "outputs": [],
   "source": [
    "df = pd.ExcelFile('Test Case 1 - OpAmp_280nm_GF55.xlsx').parse()"
   ]
  },
  {
   "cell_type": "code",
   "execution_count": 14,
   "metadata": {},
   "outputs": [],
   "source": [
    "b = []\n",
    "for i in list(df.columns):\n",
    "    b.append(i)"
   ]
  },
  {
   "cell_type": "code",
   "execution_count": 17,
   "metadata": {},
   "outputs": [],
   "source": [
    "train = ['VDD','Ib','Lg1','Lg2','Lrf','Wcf','Wg1','Wg2','temperature']\n",
    "target = ['ACM_G','SR','CMRR','NOISE','PSRR','PhaseMargin_PM','BandWidth']"
   ]
  },
  {
   "cell_type": "code",
   "execution_count": 21,
   "metadata": {},
   "outputs": [
    {
     "data": {
      "text/plain": [
       "((6912, 9), (6912, 7))"
      ]
     },
     "execution_count": 21,
     "metadata": {},
     "output_type": "execute_result"
    }
   ],
   "source": [
    "X = df[train].values\n",
    "Y = df[target].values\n",
    "X.shape,Y.shape"
   ]
  },
  {
   "cell_type": "code",
   "execution_count": 32,
   "metadata": {},
   "outputs": [],
   "source": [
    "for i in range(9):\n",
    "    X[:,i]=(X[:,i] - X[:,i].mean())/(X[:,i].std())\n",
    "for i in range(7):\n",
    "    Y[:,i]=(Y[:,i] - Y[:,i].mean())/(Y[:,i].std())"
   ]
  },
  {
   "cell_type": "code",
   "execution_count": 33,
   "metadata": {},
   "outputs": [],
   "source": [
    "trainX_tmp, testX, trainY_tmp, testY  = train_test_split(X, Y, test_size=0.2, random_state=1)\n",
    "trainX_tmp, valX, trainY_tmp, valY = train_test_split(trainX_tmp, trainY_tmp, test_size=0.25, random_state=1)"
   ]
  },
  {
   "cell_type": "code",
   "execution_count": 34,
   "metadata": {},
   "outputs": [
    {
     "data": {
      "text/plain": [
       "((4146, 9), (1383, 9), (1383, 9), 6912)"
      ]
     },
     "execution_count": 34,
     "metadata": {},
     "output_type": "execute_result"
    }
   ],
   "source": [
    "trainX_tmp.shape,valX.shape,testX.shape,4146+2*1383"
   ]
  },
  {
   "cell_type": "code",
   "execution_count": 41,
   "metadata": {},
   "outputs": [
    {
     "data": {
      "text/plain": [
       "(101, 5, 2000)"
      ]
     },
     "execution_count": 41,
     "metadata": {},
     "output_type": "execute_result"
    }
   ],
   "source": [
    "a = np.random.rand(101,5,2000)\n",
    "a.shape"
   ]
  },
  {
   "cell_type": "code",
   "execution_count": 52,
   "metadata": {},
   "outputs": [],
   "source": [
    "def random(x):\n",
    "    a,b,c = x.shape\n",
    "    \n",
    "    return np.mean(np.std(x,axis=0),axis=0)\n"
   ]
  },
  {
   "cell_type": "code",
   "execution_count": 53,
   "metadata": {},
   "outputs": [
    {
     "data": {
      "text/plain": [
       "(2000,)"
      ]
     },
     "execution_count": 53,
     "metadata": {},
     "output_type": "execute_result"
    }
   ],
   "source": [
    "random(a).shape"
   ]
  },
  {
   "cell_type": "code",
   "execution_count": null,
   "metadata": {},
   "outputs": [],
   "source": []
  }
 ],
 "metadata": {
  "kernelspec": {
   "display_name": "Python 3",
   "language": "python",
   "name": "python3"
  },
  "language_info": {
   "codemirror_mode": {
    "name": "ipython",
    "version": 3
   },
   "file_extension": ".py",
   "mimetype": "text/x-python",
   "name": "python",
   "nbconvert_exporter": "python",
   "pygments_lexer": "ipython3",
   "version": "3.6.8"
  }
 },
 "nbformat": 4,
 "nbformat_minor": 2
}
