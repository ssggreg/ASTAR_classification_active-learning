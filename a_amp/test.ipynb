{
 "cells": [
  {
   "cell_type": "code",
   "execution_count": 1,
   "metadata": {},
   "outputs": [],
   "source": [
    "import numpy as np\n",
    "import torch\n",
    "import torch.nn as nn\n",
    "import torch.optim as optim\n",
    "import matplotlib.pyplot as plt\n",
    "import seaborn as sns\n",
    "import pandas as pd\n",
    "from Class_vogn import train_model_cc_fast,csvDataset,ToTensor\n",
    "import torch.nn.functional as F\n",
    "from active_function import *\n",
    "from sklearn.model_selection import train_test_split\n",
    "from vogn import VOGN\n",
    "\n",
    "class EvalNet(nn.Module):\n",
    "\n",
    "    def __init__(self, in_size=9, hidden=64, dropout_rate=None):\n",
    "        super(EvalNet, self).__init__()\n",
    "        self.dropout = dropout_rate\n",
    "        if dropout_rate:\n",
    "            self.dropout = nn.Dropout(dropout_rate)\n",
    "        self.f1 = nn.Linear(in_size, hidden)\n",
    "        self.f2 = nn.Linear(hidden,  hidden)\n",
    "        self.f3 = nn.Linear(hidden,  1)\n",
    "\n",
    "    def forward(self, x):\n",
    "        out = x\n",
    "        out = F.relu(self.f1(out))\n",
    "        if self.dropout:\n",
    "            out = self.dropout(out)\n",
    "        out = F.relu(self.f2(out))\n",
    "        if self.dropout:\n",
    "            out = self.dropout(out)\n",
    "        out = self.f3(out)\n",
    "        return out  \n",
    "    \n",
    "class BaseNet(nn.Module):\n",
    "    def __init__(self,dropout_rate=None):\n",
    "        super(type(self), self).__init__()\n",
    "        self.dropout = dropout_rate\n",
    "        if dropout_rate:\n",
    "            self.dropout = nn.Dropout(dropout_rate)\n",
    "        self.layer1 = nn.Linear(9, 32)\n",
    "        self.layer2 = nn.Linear(32, 32)\n",
    "        self.layer3 = nn.Linear(32, 1)\n",
    "        \n",
    "        \n",
    "    def forward(self, x):\n",
    "        x = F.relu(self.layer1(x))\n",
    "        if self.dropout:\n",
    "            out = self.dropout(out)\n",
    "        x = F.relu(self.layer2(x))\n",
    "        if self.dropout:\n",
    "            out = self.dropout(out)\n",
    "        out = self.layer3(x)\n",
    "        return out"
   ]
  },
  {
   "cell_type": "code",
   "execution_count": 5,
   "metadata": {},
   "outputs": [],
   "source": [
    "uncertainty = ['mc_dropout','bootstrap','vogn']"
   ]
  },
  {
   "cell_type": "code",
   "execution_count": 8,
   "metadata": {},
   "outputs": [
    {
     "data": {
      "text/plain": [
       "'acmc_dropout_'"
      ]
     },
     "execution_count": 8,
     "metadata": {},
     "output_type": "execute_result"
    }
   ],
   "source": [
    "'a'+'c' + uncertainty[0] +'_'"
   ]
  },
  {
   "cell_type": "code",
   "execution_count": 2,
   "metadata": {},
   "outputs": [],
   "source": [
    "Xtrain = np.load('opAmp_280nm_GF55_Mod_30P_lbl/trainx.npy')\n",
    "Ytrain = np.load('opAmp_280nm_GF55_Mod_30P_lbl/trainy.npy')*1.\n",
    "Xtest = np.load('opAmp_280nm_GF55_Mod_30P_lbl/testx.npy')\n",
    "Ytest = np.load('opAmp_280nm_GF55_Mod_30P_lbl/testy.npy')*1.\n",
    "\n",
    "\n",
    "for i in range(9):\n",
    "    Xtrain[:,i]=(Xtrain[:,i] - Xtrain[:,i].mean())/(Xtrain[:,i].std())\n",
    "    Xtest[:,i]=(Xtest[:,i] - Xtest[:,i].mean())/(Xtest[:,i].std())\n",
    "Ytrain = Ytrain.reshape(-1,1)\n",
    "Ytest = Ytest.reshape(-1,1) "
   ]
  },
  {
   "cell_type": "code",
   "execution_count": 6,
   "metadata": {},
   "outputs": [],
   "source": [
    "torch.cuda.set_device(1)"
   ]
  },
  {
   "cell_type": "code",
   "execution_count": 8,
   "metadata": {},
   "outputs": [
    {
     "name": "stdout",
     "output_type": "stream",
     "text": [
      "49\n",
      "49\n"
     ]
    }
   ],
   "source": [
    "correct = np.zeros(100)\n",
    "for x in range(2):\n",
    "    a = np.random.choice(3420,20+20*x,replace=False)\n",
    "    Xtrainb=Xtrain[a]\n",
    "    Ytrainb=Ytrain[a]\n",
    "    model = BaseNet()\n",
    "    optimizer = VOGN(model, train_set_size=1000,prior_prec=30, prec_init=30, num_samples=4)\n",
    "\n",
    "    use_cuda = torch.cuda.is_available()\n",
    "    inference_dataset = csvDataset(Xtest,Ytest,transform= ToTensor())\n",
    "    inference_loader = torch.utils.data.DataLoader(inference_dataset,batch_size=Xtest.shape[0], shuffle=False)\n",
    "    \n",
    "    file_dataset = csvDataset(Xtrainb,Ytrainb,transform= ToTensor())\n",
    "    final_loader = torch.utils.data.DataLoader(file_dataset,batch_size=1 ,shuffle=False)\n",
    "\n",
    "    if use_cuda:\n",
    "        model = model.float().cuda()\n",
    "\n",
    "    criterion = F.binary_cross_entropy_with_logits\n",
    "    model, train_accuracy,ep= train_model_cc_fast(model, final_loader, criterion, optimizer,Xtrain.shape[0], num_epochs=50)\n",
    "    print(ep)\n",
    "    model.eval()\n",
    "    with torch.no_grad():\n",
    "        for i in inference_loader:\n",
    "            inputs = i['data']\n",
    "            labels = i['label']\n",
    "            inputs, labels = inputs.cuda(), labels.cuda()\n",
    "            out = model.forward(inputs)\n",
    "            pred = (out.cpu().numpy()>0)*1.\n",
    "            labels = (labels.cpu().numpy())*1.\n",
    "\n",
    "    correct[x] =(np.sum(pred==labels)/Xtest.shape[0])\n"
   ]
  },
  {
   "cell_type": "code",
   "execution_count": 17,
   "metadata": {},
   "outputs": [
    {
     "name": "stdout",
     "output_type": "stream",
     "text": [
      "Parameter containing:\n",
      "tensor([[ 2.9161e-02,  1.0130e-02, -9.2288e-03, -1.9997e-03, -6.5995e-02,\n",
      "          4.9942e-03,  8.5276e-03, -1.0572e-03,  4.9246e-03],\n",
      "        [-2.7820e-01, -6.6908e-02,  2.6424e-01, -2.6140e-01, -6.3598e-01,\n",
      "         -2.4332e-01, -1.9838e-01, -4.1837e-01,  5.2506e-01],\n",
      "        [-7.5120e-02, -1.0402e-01,  8.9916e-02, -1.3215e-02, -8.0750e-02,\n",
      "          7.2648e-02, -7.1175e-02,  3.2943e-02,  5.7159e-02],\n",
      "        [ 2.0885e-02,  1.7369e-02,  6.4046e-02, -4.7534e-02,  3.0895e-03,\n",
      "          3.9550e-02,  2.1787e-02,  4.9360e-02,  6.7319e-04],\n",
      "        [-3.9992e-02, -8.2005e-03,  3.4172e-02, -4.6968e-02, -1.1008e-01,\n",
      "         -7.6947e-02, -3.1951e-02, -7.6014e-02,  9.4013e-02],\n",
      "        [-2.1785e-01, -3.4577e-01,  1.7160e-01,  7.1034e-02,  1.2708e-02,\n",
      "          1.8729e-01, -2.2380e-01,  6.7063e-02,  8.4501e-02],\n",
      "        [-4.9249e-02, -3.5608e-02,  5.7390e-02, -2.0645e-02, -4.1320e-02,\n",
      "          3.6806e-04, -2.5020e-02, -1.4292e-02,  3.1576e-02],\n",
      "        [ 1.8588e-01,  1.3755e-01, -1.6987e-01, -1.2535e-01,  2.9730e-01,\n",
      "          6.3080e-02,  1.9597e-02, -3.0593e-01, -2.0136e-01],\n",
      "        [-1.2819e-02,  5.4919e-03,  2.5478e-02, -3.4947e-02, -3.2508e-02,\n",
      "          2.4565e-03, -6.5451e-02,  2.1032e-02, -3.0737e-02],\n",
      "        [-6.7563e-03, -1.0784e-02,  9.9500e-02, -1.2469e-02, -3.4342e-02,\n",
      "         -8.0912e-03,  7.4424e-03, -6.4697e-03, -6.0660e-04],\n",
      "        [ 9.6289e-02,  1.0979e-01, -5.8845e-02,  1.6320e-02,  2.1278e-02,\n",
      "         -8.3181e-03,  1.1826e-03, -2.0927e-03, -6.4263e-02],\n",
      "        [-2.4468e-02,  4.8389e-03,  1.9791e-02, -2.2815e-03,  4.2645e-02,\n",
      "          8.2429e-03, -1.2294e-02, -6.0912e-02, -2.2835e-02],\n",
      "        [-4.8152e-02, -3.2180e-02,  7.1194e-02, -4.0787e-02,  1.3839e-02,\n",
      "         -4.9826e-03, -5.5884e-02,  1.5322e-02,  1.5876e-02],\n",
      "        [-2.9941e-02, -5.9872e-02,  5.4157e-02,  2.4316e-02, -9.1251e-02,\n",
      "         -1.9730e-02, -2.4497e-02, -1.6464e-02,  3.5179e-02],\n",
      "        [ 2.7172e-02,  2.6571e-02,  1.1224e-03, -1.4275e-02, -9.3481e-03,\n",
      "         -7.4413e-04, -1.9302e-02,  1.3045e-03, -2.6620e-02],\n",
      "        [ 3.7700e-02,  2.8389e-02,  3.7642e-02,  2.3326e-02, -6.3661e-03,\n",
      "          2.4279e-02, -4.2124e-02, -4.6262e-03,  3.9269e-02],\n",
      "        [ 7.1684e-02,  9.2268e-02,  1.3113e-02, -3.2940e-03, -3.2742e-02,\n",
      "          1.5222e-02, -1.9098e-02,  3.9346e-02, -1.6351e-03],\n",
      "        [-6.7231e-02, -1.1848e-02,  6.3421e-02, -2.2989e-02, -3.3684e-02,\n",
      "         -3.1381e-02, -5.8329e-02, -2.4450e-03,  1.4017e-02],\n",
      "        [ 2.9818e-02,  5.6774e-02, -3.5100e-02, -2.0486e-02,  9.2508e-03,\n",
      "         -6.2344e-03, -2.1735e-02,  1.9835e-02, -5.6163e-02],\n",
      "        [-9.5767e-02, -2.2010e-02, -7.5089e-03, -2.7297e-02, -8.4484e-02,\n",
      "         -3.2857e-02, -2.5701e-02, -8.7088e-02,  9.3399e-02],\n",
      "        [-6.0370e-02, -7.6173e-02,  1.0116e-01, -2.8456e-02, -1.1936e-01,\n",
      "         -4.3459e-02, -8.9018e-02, -6.0229e-02,  2.2903e-02],\n",
      "        [-4.7471e-01, -5.3726e-01,  5.7286e-01, -7.4513e-02, -2.6023e-02,\n",
      "          9.1650e-02, -1.9191e-01,  3.0218e-01,  1.2247e-01],\n",
      "        [ 5.2109e-01,  9.7928e-01, -3.5206e-01,  2.1645e-01,  4.1021e-02,\n",
      "         -3.4364e-02,  1.3715e-01,  4.3593e-01, -3.4158e-01],\n",
      "        [-9.7864e-02, -8.2872e-02,  1.0688e-01, -5.2939e-02, -1.1835e-01,\n",
      "         -2.0413e-02, -6.6915e-02, -1.8443e-02,  1.2439e-01],\n",
      "        [-3.9361e-01, -5.9227e-01,  3.1541e-01,  1.6196e-01,  1.3809e-01,\n",
      "          3.9006e-01, -1.6044e-02,  2.6455e-01,  3.6545e-02],\n",
      "        [ 3.9900e-01,  1.5942e-01, -2.2394e-01, -3.4215e-01,  3.8681e-01,\n",
      "          9.8746e-02,  4.1328e-02, -2.8392e-01, -1.3312e-01],\n",
      "        [-2.9528e-02, -2.3214e-02,  1.0799e-01, -2.1188e-02, -8.7721e-02,\n",
      "         -5.2949e-02,  6.4969e-03, -7.7347e-03,  8.6712e-02],\n",
      "        [-8.5681e-02, -9.6781e-02,  1.0352e-01, -3.7395e-02, -1.8422e-01,\n",
      "         -2.2837e-03, -1.3206e-01, -1.1094e-01,  1.7074e-01],\n",
      "        [ 5.5749e-02, -6.4001e-03, -5.5385e-03, -5.0050e-02,  4.8760e-02,\n",
      "         -3.8017e-02,  7.2895e-03, -3.1606e-02, -8.7672e-03],\n",
      "        [ 1.1806e-01,  5.3990e-02, -1.3863e-01, -9.8137e-02,  1.7750e-01,\n",
      "          5.1380e-02,  5.3539e-02, -1.0556e-01, -8.0682e-02],\n",
      "        [-3.4372e-02,  7.6915e-02,  1.0861e-02,  9.9914e-03, -6.8004e-02,\n",
      "         -2.9932e-02, -1.0894e-03, -3.6406e-02,  5.6715e-02],\n",
      "        [-2.4633e-01, -3.9489e-01,  2.9350e-01,  1.0939e-01, -9.5506e-02,\n",
      "          2.0077e-01, -4.5895e-02,  4.4996e-02,  1.8186e-01]], device='cuda:1',\n",
      "       requires_grad=True) layer1.weight\n",
      "layer1.weight\n",
      "None\n",
      "Parameter containing:\n",
      "tensor([-1.1979e-01,  1.7503e-01, -7.6891e-02,  3.2042e-03, -3.0564e-02,\n",
      "        -4.1032e-02, -4.2002e-02,  6.3930e-02, -7.4973e-03, -8.2957e-02,\n",
      "        -9.4524e-03, -2.6385e-02, -5.1447e-02, -6.9372e-02, -5.6098e-02,\n",
      "        -6.1096e-02, -8.1279e-02, -8.5112e-02, -8.9984e-02,  1.6741e-04,\n",
      "        -9.9382e-02,  7.6639e-02,  3.2744e-01, -6.8790e-03, -5.1634e-02,\n",
      "         1.4118e-01, -8.4170e-03, -8.4083e-03, -2.5941e-02,  6.7852e-02,\n",
      "        -8.0096e-02,  6.9452e-02], device='cuda:1', requires_grad=True) layer1.bias\n",
      "Parameter containing:\n",
      "tensor([[ 0.0419, -0.1595, -0.0166,  ...,  0.0968, -0.0271, -0.0920],\n",
      "        [-0.0038,  0.0597, -0.0158,  ..., -0.0267,  0.0237,  0.0273],\n",
      "        [-0.0208,  0.2335,  0.0844,  ..., -0.0502,  0.0333,  0.1841],\n",
      "        ...,\n",
      "        [-0.0034,  0.0159,  0.0033,  ...,  0.0067, -0.0187,  0.0243],\n",
      "        [ 0.0036,  0.0280, -0.0045,  ..., -0.0059,  0.0313,  0.0587],\n",
      "        [-0.0211, -0.0718,  0.0008,  ...,  0.0012, -0.0140, -0.0251]],\n",
      "       device='cuda:1', requires_grad=True) layer2.weight\n",
      "layer2.weight\n",
      "None\n",
      "Parameter containing:\n",
      "tensor([ 0.1375, -0.0333,  0.0234,  0.0471,  0.3486,  0.0017,  0.0203, -0.0346,\n",
      "         0.0319, -0.0200,  0.0390,  0.1744, -0.0005,  0.0017, -0.0312, -0.0107,\n",
      "        -0.0116,  0.0566,  0.0680,  0.0517, -0.0543, -0.0105, -0.0377, -0.0105,\n",
      "        -0.0111, -0.0276, -0.0153,  0.0565,  0.0004, -0.0290,  0.0042, -0.0178],\n",
      "       device='cuda:1', requires_grad=True) layer2.bias\n",
      "Parameter containing:\n",
      "tensor([[-0.5355,  0.1110,  0.5092, -0.2081, -1.0241, -0.0236,  0.6281,  0.3432,\n",
      "         -0.2114,  0.1267,  0.7512, -0.6013,  0.4074, -0.0760, -0.0852,  0.0312,\n",
      "          0.1967, -0.2350,  0.7932, -0.2674,  0.1912,  0.4123,  0.1069,  0.1799,\n",
      "          0.0317, -0.0621,  0.0110, -0.1941,  0.0236,  0.0242,  0.1486, -0.1213]],\n",
      "       device='cuda:1', requires_grad=True) layer3.weight\n",
      "layer3.weight\n",
      "None\n",
      "Parameter containing:\n",
      "tensor([-0.3132], device='cuda:1', requires_grad=True) layer3.bias\n"
     ]
    }
   ],
   "source": [
    "for n, p in model.named_parameters():\n",
    "    print (p,n)\n",
    "    if(p.requires_grad) and (\"bias\" not in n):\n",
    "            print(n)\n",
    "            print(p.grad)"
   ]
  },
  {
   "cell_type": "code",
   "execution_count": 9,
   "metadata": {},
   "outputs": [
    {
     "data": {
      "text/plain": [
       "[<matplotlib.lines.Line2D at 0x7f9e67448240>]"
      ]
     },
     "execution_count": 9,
     "metadata": {},
     "output_type": "execute_result"
    },
    {
     "data": {
      "image/png": "[encoded data removed]",
      "text/plain": [
       "<Figure size 432x288 with 1 Axes>"
      ]
     },
     "metadata": {
      "needs_background": "light"
     },
     "output_type": "display_data"
    }
   ],
   "source": [
    "plt.plot(np.arange(2)/10,correct[:2])"
   ]
  },
  {
   "cell_type": "code",
   "execution_count": null,
   "metadata": {},
   "outputs": [],
   "source": [
    "for n, p in named_parameters:\n",
    "        if(p.requires_grad) and (\"bias\" not in n):\n",
    "            layers.append(n)\n",
    "            ave_grads.append(p.grad.abs().mean())"
   ]
  },
  {
   "cell_type": "code",
   "execution_count": 7,
   "metadata": {},
   "outputs": [
    {
     "name": "stdout",
     "output_type": "stream",
     "text": [
      "49\n",
      "49\n",
      "49\n",
      "49\n",
      "49\n",
      "49\n",
      "49\n",
      "49\n",
      "49\n",
      "49\n"
     ]
    }
   ],
   "source": [
    "correct = np.zeros(100)\n",
    "for x in range(10):\n",
    "    a = np.random.choice(3420,50,replace=False)\n",
    "    Xtrainb=Xtrain[a]\n",
    "    Ytrainb=Ytrain[a]\n",
    "    model = BaseNet()\n",
    "    optimizer = VOGN(model, train_set_size=50,prior_prec=30, prec_init=30, num_samples=4,lr=0.00001+x*0.0005)\n",
    "\n",
    "    use_cuda = torch.cuda.is_available()\n",
    "    inference_dataset = csvDataset(Xtest,Ytest,transform= ToTensor())\n",
    "    inference_loader = torch.utils.data.DataLoader(inference_dataset,batch_size=Xtest.shape[0], shuffle=False)\n",
    "    \n",
    "    file_dataset = csvDataset(Xtrainb,Ytrainb,transform= ToTensor())\n",
    "    final_loader = torch.utils.data.DataLoader(file_dataset,batch_size=1 ,shuffle=False)\n",
    "\n",
    "    if use_cuda:\n",
    "        model = model.float().cuda()\n",
    "\n",
    "    criterion = F.binary_cross_entropy_with_logits\n",
    "    model, train_accuracy,ep= train_model_cc_fast(model, final_loader, criterion, optimizer,Xtrain.shape[0], num_epochs=50)\n",
    "    print(ep)\n",
    "    model.eval()\n",
    "    with torch.no_grad():\n",
    "        for i in inference_loader:\n",
    "            inputs = i['data']\n",
    "            labels = i['label']\n",
    "            inputs, labels = inputs.cuda(), labels.cuda()\n",
    "            out = model.forward(inputs)\n",
    "            pred = (out.cpu().numpy()>0)*1.\n",
    "            labels = (labels.cpu().numpy())*1.\n",
    "\n",
    "    correct[x] =(np.sum(pred==labels)/Xtest.shape[0])"
   ]
  },
  {
   "cell_type": "code",
   "execution_count": 8,
   "metadata": {},
   "outputs": [
    {
     "data": {
      "text/plain": [
       "[<matplotlib.lines.Line2D at 0x7fc36c497710>]"
      ]
     },
     "execution_count": 8,
     "metadata": {},
     "output_type": "execute_result"
    },
    {
     "data": {
      "image/png": "[encoded data removed]",
      "text/plain": [
       "<Figure size 432x288 with 1 Axes>"
      ]
     },
     "metadata": {
      "needs_background": "light"
     },
     "output_type": "display_data"
    }
   ],
   "source": [
    "plt.plot(np.arange(10)/10,correct[:10])"
   ]
  },
  {
   "cell_type": "code",
   "execution_count": 9,
   "metadata": {},
   "outputs": [
    {
     "name": "stdout",
     "output_type": "stream",
     "text": [
      "49\n",
      "49\n",
      "49\n",
      "49\n",
      "49\n",
      "49\n",
      "49\n",
      "49\n",
      "49\n",
      "49\n"
     ]
    }
   ],
   "source": [
    "correct = np.zeros(100)\n",
    "for x in range(10):\n",
    "    a = np.random.choice(3420,50,replace=False)\n",
    "    Xtrainb=Xtrain[a]\n",
    "    Ytrainb=Ytrain[a]\n",
    "    model = BaseNet()\n",
    "    optimizer = VOGN(model, train_set_size=50+x*100,prior_prec=30, prec_init=30, num_samples=4)\n",
    "\n",
    "    use_cuda = torch.cuda.is_available()\n",
    "    inference_dataset = csvDataset(Xtest,Ytest,transform= ToTensor())\n",
    "    inference_loader = torch.utils.data.DataLoader(inference_dataset,batch_size=Xtest.shape[0], shuffle=False)\n",
    "    \n",
    "    file_dataset = csvDataset(Xtrainb,Ytrainb,transform= ToTensor())\n",
    "    final_loader = torch.utils.data.DataLoader(file_dataset,batch_size=1 ,shuffle=False)\n",
    "\n",
    "    if use_cuda:\n",
    "        model = model.float().cuda()\n",
    "\n",
    "    criterion = F.binary_cross_entropy_with_logits\n",
    "    model, train_accuracy,ep= train_model_cc_fast(model, final_loader, criterion, optimizer,Xtrain.shape[0], num_epochs=50)\n",
    "    print(ep)\n",
    "    model.eval()\n",
    "    with torch.no_grad():\n",
    "        for i in inference_loader:\n",
    "            inputs = i['data']\n",
    "            labels = i['label']\n",
    "            inputs, labels = inputs.cuda(), labels.cuda()\n",
    "            out = model.forward(inputs)\n",
    "            pred = (out.cpu().numpy()>0)*1.\n",
    "            labels = (labels.cpu().numpy())*1.\n",
    "\n",
    "    correct[x] =(np.sum(pred==labels)/Xtest.shape[0])"
   ]
  },
  {
   "cell_type": "code",
   "execution_count": 10,
   "metadata": {},
   "outputs": [
    {
     "data": {
      "text/plain": [
       "[<matplotlib.lines.Line2D at 0x7fc36c449908>]"
      ]
     },
     "execution_count": 10,
     "metadata": {},
     "output_type": "execute_result"
    },
    {
     "data": {
      "image/png": "[encoded data removed]",
      "text/plain": [
       "<Figure size 432x288 with 1 Axes>"
      ]
     },
     "metadata": {
      "needs_background": "light"
     },
     "output_type": "display_data"
    }
   ],
   "source": [
    "plt.plot(np.arange(10)/10,correct[:10])"
   ]
  },
  {
   "cell_type": "markdown",
   "metadata": {},
   "source": [
    "_________________"
   ]
  },
  {
   "cell_type": "markdown",
   "metadata": {},
   "source": [
    "____________"
   ]
  },
  {
   "cell_type": "code",
   "execution_count": 13,
   "metadata": {},
   "outputs": [],
   "source": [
    "df = pd.ExcelFile('Test Case 1 - OpAmp_280nm_GF55.xlsx').parse()"
   ]
  },
  {
   "cell_type": "code",
   "execution_count": 14,
   "metadata": {},
   "outputs": [],
   "source": [
    "b = []\n",
    "for i in list(df.columns):\n",
    "    b.append(i)"
   ]
  },
  {
   "cell_type": "code",
   "execution_count": 17,
   "metadata": {},
   "outputs": [],
   "source": [
    "train = ['VDD','Ib','Lg1','Lg2','Lrf','Wcf','Wg1','Wg2','temperature']\n",
    "target = ['ACM_G','SR','CMRR','NOISE','PSRR','PhaseMargin_PM','BandWidth']"
   ]
  },
  {
   "cell_type": "code",
   "execution_count": 21,
   "metadata": {},
   "outputs": [
    {
     "data": {
      "text/plain": [
       "((6912, 9), (6912, 7))"
      ]
     },
     "execution_count": 21,
     "metadata": {},
     "output_type": "execute_result"
    }
   ],
   "source": [
    "X = df[train].values\n",
    "Y = df[target].values\n",
    "X.shape,Y.shape"
   ]
  },
  {
   "cell_type": "code",
   "execution_count": 32,
   "metadata": {},
   "outputs": [],
   "source": [
    "for i in range(9):\n",
    "    X[:,i]=(X[:,i] - X[:,i].mean())/(X[:,i].std())\n",
    "for i in range(7):\n",
    "    Y[:,i]=(Y[:,i] - Y[:,i].mean())/(Y[:,i].std())"
   ]
  },
  {
   "cell_type": "code",
   "execution_count": 33,
   "metadata": {},
   "outputs": [],
   "source": [
    "trainX_tmp, testX, trainY_tmp, testY  = train_test_split(X, Y, test_size=0.2, random_state=1)\n",
    "trainX_tmp, valX, trainY_tmp, valY = train_test_split(trainX_tmp, trainY_tmp, test_size=0.25, random_state=1)"
   ]
  },
  {
   "cell_type": "code",
   "execution_count": 34,
   "metadata": {},
   "outputs": [
    {
     "data": {
      "text/plain": [
       "((4146, 9), (1383, 9), (1383, 9), 6912)"
      ]
     },
     "execution_count": 34,
     "metadata": {},
     "output_type": "execute_result"
    }
   ],
   "source": [
    "trainX_tmp.shape,valX.shape,testX.shape,4146+2*1383"
   ]
  },
  {
   "cell_type": "code",
   "execution_count": 41,
   "metadata": {},
   "outputs": [
    {
     "data": {
      "text/plain": [
       "(101, 5, 2000)"
      ]
     },
     "execution_count": 41,
     "metadata": {},
     "output_type": "execute_result"
    }
   ],
   "source": [
    "a = np.random.rand(101,5,2000)\n",
    "a.shape"
   ]
  },
  {
   "cell_type": "code",
   "execution_count": 52,
   "metadata": {},
   "outputs": [],
   "source": [
    "def random(x):\n",
    "    a,b,c = x.shape\n",
    "    \n",
    "    return np.mean(np.std(x,axis=0),axis=0)\n"
   ]
  },
  {
   "cell_type": "code",
   "execution_count": 53,
   "metadata": {},
   "outputs": [
    {
     "data": {
      "text/plain": [
       "(2000,)"
      ]
     },
     "execution_count": 53,
     "metadata": {},
     "output_type": "execute_result"
    }
   ],
   "source": [
    "random(a).shape"
   ]
  },
  {
   "cell_type": "code",
   "execution_count": 9,
   "metadata": {},
   "outputs": [],
   "source": [
    "a = [9,4,1,8]\n",
    "b = np.arange(10)"
   ]
  },
  {
   "cell_type": "code",
   "execution_count": 13,
   "metadata": {},
   "outputs": [
    {
     "data": {
      "text/plain": [
       "6"
      ]
     },
     "execution_count": 13,
     "metadata": {},
     "output_type": "execute_result"
    }
   ],
   "source": [
    "np.setdiff1d(b,a).shape[0]"
   ]
  },
  {
   "cell_type": "code",
   "execution_count": null,
   "metadata": {},
   "outputs": [],
   "source": []
  }
 ],
 "metadata": {
  "kernelspec": {
   "display_name": "Python 3",
   "language": "python",
   "name": "python3"
  },
  "language_info": {
   "codemirror_mode": {
    "name": "ipython",
    "version": 3
   },
   "file_extension": ".py",
   "mimetype": "text/x-python",
   "name": "python",
   "nbconvert_exporter": "python",
   "pygments_lexer": "ipython3",
   "version": "3.6.6"
  }
 },
 "nbformat": 4,
 "nbformat_minor": 2
}
